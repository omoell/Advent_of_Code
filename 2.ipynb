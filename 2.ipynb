{
 "cells": [
  {
   "cell_type": "code",
   "execution_count": 1,
   "metadata": {},
   "outputs": [],
   "source": [
    "def intcode_calculator(intcode):\n",
    "    new_value = 0\n",
    "    for position in range(0, len(intcode), 4):\n",
    "#         print(f\">>>DEBUG: position: {position}, value: {intcode[position]}\")\n",
    "        if intcode[position] == 99:\n",
    "            return intcode\n",
    "        else:\n",
    "            pos_first_parameter = intcode[(position + 1)]\n",
    "            pos_second_parameter = intcode[(position + 2)]\n",
    "            save_position = intcode[(position + 3)]\n",
    "            if intcode[position] == 1:\n",
    "                new_value = intcode[pos_first_parameter] + intcode[(pos_second_parameter)]\n",
    "            elif intcode[position] == 2:\n",
    "                new_value = intcode[(pos_first_parameter)] * intcode[(pos_second_parameter)]\n",
    "#             print(f\">>>DEBUG: {save_position}\")\n",
    "            intcode[save_position] = new_value\n",
    "    return intcode"
   ]
  },
  {
   "cell_type": "markdown",
   "metadata": {},
   "source": [
    "## Test program"
   ]
  },
  {
   "cell_type": "code",
   "execution_count": null,
   "metadata": {},
   "outputs": [],
   "source": [
    "test_intcode = [1,9,10,3,2,3,11,0,99,30,40,50]\n",
    "\n",
    "test_intcode_result = intcode_calculator(test_intcode)\n",
    "print(test_intcode_result)"
   ]
  },
  {
   "cell_type": "markdown",
   "metadata": {},
   "source": [
    "## Calculate result"
   ]
  },
  {
   "cell_type": "code",
   "execution_count": 1,
   "metadata": {},
   "outputs": [],
   "source": [
    "with open(\"5-input.txt\", \"r\") as input_file:\n",
    "    file_content = input_file.read()\n",
    "    intcode_input = [int(i) for i in file_content.split(\",\")]"
   ]
  },
  {
   "cell_type": "code",
   "execution_count": null,
   "metadata": {},
   "outputs": [],
   "source": [
    "intcode_processed = intcode_calculator(intcode_input.copy())\n",
    "\n",
    "print(f\"Result: {intcode_processed[0]}\")\n",
    "print(f\"Processed intcode: {intcode_processed}\")"
   ]
  },
  {
   "cell_type": "markdown",
   "metadata": {},
   "source": [
    "# Quiz 2b\n",
    "\n",
    "\"With terminology out of the way, we're ready to proceed. To complete the gravity assist, you need to determine what pair of inputs produces the output 19690720.\"\n",
    "\n",
    "The inputs should still be provided to the program by replacing the values at addresses 1 and 2, just like before. In this program, the value placed in address 1 is called the noun, and the value placed in address 2 is called the verb. Each of the two input values will be between 0 and 99, inclusive.\n",
    "\n",
    "Once the program has halted, its output is available at address 0, also just like before. Each time you try a pair of inputs, make sure you first reset the computer's memory to the values in the program (your puzzle input) - in other words, don't reuse memory from a previous attempt.\n",
    "\n",
    "Find the input noun and verb that cause the program to produce the output 19690720. What is 100 * noun + verb? (For example, if noun=12 and verb=2, the answer would be 1202.)"
   ]
  },
  {
   "cell_type": "code",
   "execution_count": 3,
   "metadata": {},
   "outputs": [
    {
     "name": "stdout",
     "output_type": "stream",
     "text": [
      "Noun: 38, Verb: 92\n",
      "Result = 3892\n"
     ]
    }
   ],
   "source": [
    "noun = 1\n",
    "verb = 1\n",
    "result = 0\n",
    "target = 19690720\n",
    "\n",
    "while result != target:\n",
    "    if (result - target) < 0:\n",
    "        if noun <= 99:\n",
    "            noun +=1\n",
    "        else:\n",
    "            noun = 1\n",
    "            verb +=1\n",
    "    else:\n",
    "        noun = 1\n",
    "        verb += 1\n",
    "    intcode_input[1] = noun\n",
    "    intcode_input[2] = verb\n",
    "    intcode_processed = intcode_calculator(intcode_input.copy())\n",
    "    result = intcode_processed[0]\n",
    "    \n",
    "print(f\"Noun: {noun}, Verb: {verb}\")\n",
    "print(f\"Result = {100*noun + verb}\")"
   ]
  },
  {
   "cell_type": "code",
   "execution_count": null,
   "metadata": {},
   "outputs": [],
   "source": []
  }
 ],
 "metadata": {
  "kernelspec": {
   "display_name": "data_science",
   "language": "python",
   "name": "data_science"
  },
  "language_info": {
   "codemirror_mode": {
    "name": "ipython",
    "version": 3
   },
   "file_extension": ".py",
   "mimetype": "text/x-python",
   "name": "python",
   "nbconvert_exporter": "python",
   "pygments_lexer": "ipython3",
   "version": "3.7.5"
  },
  "toc-autonumbering": false,
  "toc-showmarkdowntxt": false
 },
 "nbformat": 4,
 "nbformat_minor": 4
}
