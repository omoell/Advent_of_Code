{
 "cells": [
  {
   "cell_type": "code",
   "execution_count": 70,
   "metadata": {},
   "outputs": [],
   "source": [
    "import numpy as np\n",
    "import math"
   ]
  },
  {
   "cell_type": "code",
   "execution_count": 71,
   "metadata": {},
   "outputs": [],
   "source": [
    "def import_lines(file):\n",
    "    with open(file, 'r') as f:\n",
    "        file_data = f.readlines()\n",
    "        file_data_cleaned = [line.rstrip('\\n') for line in file_data]\n",
    "    return file_data_cleaned"
   ]
  },
  {
   "cell_type": "code",
   "execution_count": 72,
   "metadata": {},
   "outputs": [],
   "source": [
    "class geology_array:\n",
    "    def __init__(self, geo_raw):\n",
    "        self.data = np.array([[point for point in line] for line in geo_raw])\n",
    "        self.max_index_x = self.data.shape[1] - 1\n",
    "        self.max_index_y = self.data.shape[0] - 1"
   ]
  },
  {
   "cell_type": "code",
   "execution_count": 73,
   "metadata": {},
   "outputs": [],
   "source": [
    "def find_slope_points(max_index_x, max_index_y, starting_square, slope):\n",
    "    position_x, position_y = starting_square\n",
    "    slope_x, slope_y = slope\n",
    "    slope_points = [starting_square]\n",
    "    while position_y < max_index_y:\n",
    "        position_y = position_y + slope_y\n",
    "        if (position_x + slope_x) > max_index_x:\n",
    "            position_x = position_x + slope_x - (max_index_x + 1) # As array is 0-based, the 0 needs to be considered when substracting the complete width of the array\n",
    "        else:\n",
    "            position_x = position_x + slope_x\n",
    "        slope_points.append((position_y, position_x))\n",
    "    return slope_points"
   ]
  },
  {
   "cell_type": "code",
   "execution_count": 74,
   "metadata": {},
   "outputs": [],
   "source": [
    "def evaluate_position(array, slope_points):\n",
    "    return [array[slope_point] == '#' for slope_point in slope_points]"
   ]
  },
  {
   "cell_type": "markdown",
   "metadata": {},
   "source": [
    "**--- Day 3: Toboggan Trajectory ---**  \n",
    "With the toboggan login problems resolved, you set off toward the airport. While travel by toboggan might be easy, it's certainly not safe: there's very minimal steering and the area is covered in trees. You'll need to see which angles will take you near the fewest trees.\n",
    "\n",
    "Due to the local geology, trees in this area only grow on exact integer coordinates in a grid. You make a map (your puzzle input) of the open squares (.) and trees (#) you can see. For example:\n",
    "\n",
    "..##.......  \n",
    "#...#...#..  \n",
    ".#....#..#.  \n",
    "..#.#...#.#  \n",
    ".#...##..#.  \n",
    "..#.##.....  \n",
    ".#.#.#....#  \n",
    ".#........#  \n",
    "#.##...#...  \n",
    "#...##....#  \n",
    ".#..#...#.#  \n",
    "These aren't the only trees, though; due to something you read about once involving arboreal genetics and biome stability, the same pattern repeats to the right many times:\n",
    "\n",
    "..##.........##.........##.........##.........##.........##.......  --->  \n",
    "#...#...#..#...#...#..#...#...#..#...#...#..#...#...#..#...#...#..  \n",
    ".#....#..#..#....#..#..#....#..#..#....#..#..#....#..#..#....#..#.  \n",
    "..#.#...#.#..#.#...#.#..#.#...#.#..#.#...#.#..#.#...#.#..#.#...#.#  \n",
    ".#...##..#..#...##..#..#...##..#..#...##..#..#...##..#..#...##..#.  \n",
    "..#.##.......#.##.......#.##.......#.##.......#.##.......#.##.....  --->  \n",
    ".#.#.#....#.#.#.#....#.#.#.#....#.#.#.#....#.#.#.#....#.#.#.#....#  \n",
    ".#........#.#........#.#........#.#........#.#........#.#........#  \n",
    "#.##...#...#.##...#...#.##...#...#.##...#...#.##...#...#.##...#...  \n",
    "#...##....##...##....##...##....##...##....##...##....##...##....#  \n",
    ".#..#...#.#.#..#...#.#.#..#...#.#.#..#...#.#.#..#...#.#.#..#...#.#  --->  \n",
    "You start on the open square (.) in the top-left corner and need to reach the bottom (below the bottom-most row on your map).\n",
    "\n",
    "The toboggan can only follow a few specific slopes (you opted for a cheaper model that prefers rational numbers); start by counting all the trees you would encounter for the slope right 3, down 1:\n",
    "\n",
    "From your starting position at the top-left, check the position that is right 3 and down 1. Then, check the position that is right 3 and down 1 from there, and so on until you go past the bottom of the map.\n",
    "\n",
    "The locations you'd check in the above example are marked here with O where there was an open square and X where there was a tree:\n",
    "\n",
    "..##.........##.........##.........##.........##.........##.......  --->  \n",
    "#..O#...#..#...#...#..#...#...#..#...#...#..#...#...#..#...#...#..  \n",
    ".#....X..#..#....#..#..#....#..#..#....#..#..#....#..#..#....#..#.  \n",
    "..#.#...#O#..#.#...#.#..#.#...#.#..#.#...#.#..#.#...#.#..#.#...#.#  \n",
    ".#...##..#..X...##..#..#...##..#..#...##..#..#...##..#..#...##..#.  \n",
    "..#.##.......#.X#.......#.##.......#.##.......#.##.......#.##.....  --->  \n",
    ".#.#.#....#.#.#.#.O..#.#.#.#....#.#.#.#....#.#.#.#....#.#.#.#....#  \n",
    ".#........#.#........X.#........#.#........#.#........#.#........#  \n",
    "#.##...#...#.##...#...#.X#...#...#.##...#...#.##...#...#.##...#...  \n",
    "#...##....##...##....##...#X....##...##....##...##....##...##....#  \n",
    ".#..#...#.#.#..#...#.#.#..#...X.#.#..#...#.#.#..#...#.#.#..#...#.#  --->  \n",
    "In this example, traversing the map using this slope would cause you to encounter 7 trees.\n",
    "\n",
    "Starting at the top-left corner of your map and following a slope of right 3 and down 1, how many trees would you encounter?"
   ]
  },
  {
   "cell_type": "markdown",
   "metadata": {},
   "source": [
    "geo_raw = [\n",
    "    '..##.......'\n",
    "    ,'#...#...#..'\n",
    "    ,'.#....#..#.'\n",
    "    ,'..#.#...#.#'\n",
    "    ,'.#...##..#.'\n",
    "    ,'..#.##.....'\n",
    "    ,'.#.#.#....#'\n",
    "    ,'.#........#'\n",
    "    ,'#.##...#...'\n",
    "    ,'#...##....#'\n",
    "    ,'.#..#...#.#'\n",
    "    ]"
   ]
  },
  {
   "cell_type": "code",
   "execution_count": 75,
   "metadata": {},
   "outputs": [],
   "source": [
    "geo_raw = import_lines('3a-input.txt')"
   ]
  },
  {
   "cell_type": "code",
   "execution_count": 76,
   "metadata": {},
   "outputs": [],
   "source": [
    "starting_square = (0, 0)\n",
    "slope = (3, 1)"
   ]
  },
  {
   "cell_type": "code",
   "execution_count": 77,
   "metadata": {},
   "outputs": [],
   "source": [
    "geo_array = geology_array(geo_raw)"
   ]
  },
  {
   "cell_type": "code",
   "execution_count": 78,
   "metadata": {},
   "outputs": [],
   "source": [
    "slope_points = find_slope_points(geo_array.max_index_x, geo_array.max_index_y, starting_square, slope)"
   ]
  },
  {
   "cell_type": "code",
   "execution_count": 79,
   "metadata": {},
   "outputs": [],
   "source": [
    "trees = evaluate_position(geo_array.data, slope_points)"
   ]
  },
  {
   "cell_type": "code",
   "execution_count": 80,
   "metadata": {},
   "outputs": [
    {
     "data": {
      "text/plain": [
       "151"
      ]
     },
     "execution_count": 80,
     "metadata": {},
     "output_type": "execute_result"
    }
   ],
   "source": [
    "sum(trees)"
   ]
  },
  {
   "cell_type": "markdown",
   "metadata": {},
   "source": [
    "**--- Part Two ---**  \n",
    "Time to check the rest of the slopes - you need to minimize the probability of a sudden arboreal stop, after all.\n",
    "\n",
    "Determine the number of trees you would encounter if, for each of the following slopes, you start at the top-left corner and traverse the map all the way to the bottom:\n",
    "\n",
    "Right 1, down 1.  \n",
    "Right 3, down 1. (This is the slope you already checked.)  \n",
    "Right 5, down 1.  \n",
    "Right 7, down 1.  \n",
    "Right 1, down 2.  \n",
    "In the above example, these slopes would find 2, 7, 3, 4, and 2 tree(s) respectively; multiplied together, these produce the answer 336.\n",
    "\n",
    "What do you get if you multiply together the number of trees encountered on each of the listed slopes?"
   ]
  },
  {
   "cell_type": "code",
   "execution_count": 81,
   "metadata": {},
   "outputs": [],
   "source": [
    "geo_raw = import_lines('3a-input.txt')"
   ]
  },
  {
   "cell_type": "code",
   "execution_count": 82,
   "metadata": {},
   "outputs": [],
   "source": [
    "starting_square = (0, 0)\n",
    "slopes = [(1,1), (3,1), (5,1), (7,1), (1,2)]"
   ]
  },
  {
   "cell_type": "code",
   "execution_count": 83,
   "metadata": {},
   "outputs": [],
   "source": [
    "geo_array = geology_array(geo_raw)"
   ]
  },
  {
   "cell_type": "code",
   "execution_count": 84,
   "metadata": {},
   "outputs": [],
   "source": [
    "results = []\n",
    "for slope in slopes:\n",
    "    slope_points = find_slope_points(geo_array.max_index_x, geo_array.max_index_y, starting_square, slope)\n",
    "    trees = evaluate_position(geo_array.data, slope_points)\n",
    "    results.append(sum(trees))"
   ]
  },
  {
   "cell_type": "code",
   "execution_count": 85,
   "metadata": {},
   "outputs": [
    {
     "data": {
      "text/plain": [
       "7540141059"
      ]
     },
     "execution_count": 85,
     "metadata": {},
     "output_type": "execute_result"
    }
   ],
   "source": [
    "math.prod(results)"
   ]
  },
  {
   "cell_type": "code",
   "execution_count": null,
   "metadata": {},
   "outputs": [],
   "source": []
  }
 ],
 "metadata": {
  "kernelspec": {
   "display_name": "Python (advent_of_code)",
   "language": "python",
   "name": "advent_of_code_2020"
  },
  "language_info": {
   "codemirror_mode": {
    "name": "ipython",
    "version": 3
   },
   "file_extension": ".py",
   "mimetype": "text/x-python",
   "name": "python",
   "nbconvert_exporter": "python",
   "pygments_lexer": "ipython3",
   "version": "3.9.1"
  }
 },
 "nbformat": 4,
 "nbformat_minor": 4
}
