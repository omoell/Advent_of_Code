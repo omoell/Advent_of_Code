{
 "cells": [
  {
   "cell_type": "markdown",
   "metadata": {},
   "source": [
    "# Quiz 3a\n",
    "\n",
    "The wires twist and turn, but the two wires occasionally cross paths. To fix the circuit, you need to find the intersection point closest to the central port. Because the wires are on a grid, use the Manhattan distance for this measurement. While the wires do technically cross right at the central port where they both start, this point does not count, nor does a wire count as crossing with itself.\n",
    "\n",
    "For example, if the first wire's path is R8,U5,L5,D3, then starting from the central port (o), it goes right 8, up 5, left 5, and finally down 3:\n",
    "\n",
    "...........  \n",
    "...........  \n",
    "...........  \n",
    "....+----+.  \n",
    "....|....|.  \n",
    "....|....|.  \n",
    "....|....|.  \n",
    ".........|.  \n",
    ".o-------+.  \n",
    "...........  \n",
    "Then, if the second wire's path is U7,R6,D4,L4, it goes up 7, right 6, down 4, and left 4:\n",
    "\n",
    "...........  \n",
    ".+-----+...  \n",
    ".|.....|...  \n",
    ".|..+--X-+.  \n",
    ".|..|..|.|.  \n",
    ".|.-X--+.|.  \n",
    ".|..|....|.  \n",
    ".|.......|.  \n",
    ".o-------+.  \n",
    "...........  \n",
    "These wires cross at two locations (marked X), but the lower-left one is closer to the central port: its distance is 3 + 3 = 6.\n",
    "\n",
    "Here are a few more examples:\n",
    "\n",
    "R75,D30,R83,U83,L12,D49,R71,U7,L72\n",
    "U62,R66,U55,R34,D71,R55,D58,R83 = distance 159\n",
    "R98,U47,R26,D63,R33,U87,L62,D20,R33,U53,R51\n",
    "U98,R91,D20,R16,D67,R40,U7,R15,U6,R7 = distance 135\n",
    "What is the Manhattan distance from the central port to the closest intersection?"
   ]
  },
  {
   "cell_type": "code",
   "execution_count": 1,
   "metadata": {},
   "outputs": [],
   "source": [
    "def track_path(wire, x, y):\n",
    "    if (x != 0):\n",
    "        direction = 1 if (x > 0) else (-1)\n",
    "        actual_position = wire[-1]\n",
    "        for i in range(direction, (x + direction), direction):\n",
    "            wire.append(((actual_position[0] + i), actual_position[1]))\n",
    "    else:\n",
    "        direction = 1 if (y > 0) else (-1)\n",
    "        actual_position = wire[-1]\n",
    "        for i in range(direction, (y + direction), direction):\n",
    "            wire.append(((actual_position[0]), actual_position[1] + i))"
   ]
  },
  {
   "cell_type": "code",
   "execution_count": 2,
   "metadata": {},
   "outputs": [],
   "source": [
    "def distance(intercept_point):\n",
    "    return abs(intercept_point[0]) + abs(intercept_point[1])"
   ]
  },
  {
   "cell_type": "code",
   "execution_count": 3,
   "metadata": {},
   "outputs": [],
   "source": [
    "with open(\"3-input.txt\", \"r\") as input_file:\n",
    "    file_input = input_file.read()\n",
    "    file_input = file_input.split(\"\\n\")\n",
    "    directions_input = [x.split(\",\") for x in file_input[:-1]]"
   ]
  },
  {
   "cell_type": "code",
   "execution_count": 8,
   "metadata": {},
   "outputs": [],
   "source": [
    "wire_1 = {0: (0, 0)}\n",
    "wire_2 = {0: (0, 0)}\n",
    "intersect = []\n",
    "\n",
    "wires =[wire_1, wire_2]\n",
    "test = [[\"R75\",\"D30\",\"R83\",\"U83\",\"L12\",\"D49\",\"R71\",\"U7\",\"L72\"], [\"U62\",\"R66\",\"U55\",\"R34\",\"D71\",\"R55\",\"D58\",\"R83\"]]\n",
    "test2 = [\"R98,U47,R26,D63,R33,U87,L62,D20,R33,U53,R51\".split(\",\"), \"U98,R91,D20,R16,D67,R40,U7,R15,U6,R7\".split(\",\")]\n",
    "\n",
    "for count_wire, wire_directions in enumerate(directions_input):\n",
    "    for step in wire_directions:\n",
    "        direction = step[0]\n",
    "        length = int(step[1:])\n",
    "        if direction == \"U\":\n",
    "            track_path(wires[count_wire], 0, length)\n",
    "        if direction == \"R\":\n",
    "            track_path(wires[count_wire], length, 0)\n",
    "        if direction == \"D\":\n",
    "            track_path(wires[count_wire], 0, (-length))\n",
    "        if direction == \"L\":\n",
    "            track_path(wires[count_wire], (-length), 0)"
   ]
  },
  {
   "cell_type": "code",
   "execution_count": 9,
   "metadata": {},
   "outputs": [
    {
     "data": {
      "text/plain": [
       "[(-1232, 427),\n",
       " (-681, 546),\n",
       " (-62, 1839),\n",
       " (723, 905),\n",
       " (-369, 279),\n",
       " (-1222, 125),\n",
       " (-1232, 249),\n",
       " (-369, -6),\n",
       " (-272, 486),\n",
       " (0, 0),\n",
       " (723, 1090),\n",
       " (-857, 546),\n",
       " (-1232, 236),\n",
       " (323, 1740),\n",
       " (-608, -6),\n",
       " (-930, 0),\n",
       " (723, 1378),\n",
       " (-1232, 213),\n",
       " (-904, 0),\n",
       " (-608, 279)]"
      ]
     },
     "execution_count": 9,
     "metadata": {},
     "output_type": "execute_result"
    }
   ],
   "source": [
    "# intersect = [x for x in wire_1 if x in wire_2]\n",
    "intersect =  list(set(wire_1) & set(wire_2))\n",
    "intersect"
   ]
  },
  {
   "cell_type": "code",
   "execution_count": 10,
   "metadata": {},
   "outputs": [
    {
     "name": "stdout",
     "output_type": "stream",
     "text": [
      "Distance to closest intercept: 375\n"
     ]
    }
   ],
   "source": [
    "intersect_distances = [distance(x) for x in intersect if x != (0,0)]\n",
    "print(f\"Distance to closest intercept: {min(intersect_distances)}\")"
   ]
  },
  {
   "cell_type": "code",
   "execution_count": null,
   "metadata": {},
   "outputs": [],
   "source": []
  }
 ],
 "metadata": {
  "kernelspec": {
   "display_name": "data_science",
   "language": "python",
   "name": "data_science"
  },
  "language_info": {
   "codemirror_mode": {
    "name": "ipython",
    "version": 3
   },
   "file_extension": ".py",
   "mimetype": "text/x-python",
   "name": "python",
   "nbconvert_exporter": "python",
   "pygments_lexer": "ipython3",
   "version": "3.7.5"
  },
  "toc-autonumbering": false
 },
 "nbformat": 4,
 "nbformat_minor": 4
}
