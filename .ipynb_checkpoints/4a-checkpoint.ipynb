{
 "cells": [
  {
   "cell_type": "markdown",
   "metadata": {},
   "source": [
    "# Quiz 4a\n",
    "\n",
    "You arrive at the Venus fuel depot only to discover it's protected by a password. The Elves had written the password on a sticky note, but someone threw it out.\n",
    "\n",
    "However, they do remember a few key facts about the password:\n",
    "\n",
    "It is a six-digit number.\n",
    "The value is within the range given in your puzzle input.\n",
    "Two adjacent digits are the same (like 22 in 122345).\n",
    "Going from left to right, the digits never decrease; they only ever increase or stay the same (like 111123 or 135679).\n",
    "Other than the range rule, the following are true:\n",
    "\n",
    "111111 meets these criteria (double 11, never decreases).\n",
    "223450 does not meet these criteria (decreasing pair of digits 50).\n",
    "123789 does not meet these criteria (no double).\n",
    "How many different passwords within the range given in your puzzle input meet these criteria?\n",
    "\n",
    "Your puzzle input is 137683-596253"
   ]
  },
  {
   "cell_type": "code",
   "execution_count": 27,
   "metadata": {},
   "outputs": [],
   "source": [
    "import re"
   ]
  },
  {
   "cell_type": "code",
   "execution_count": 55,
   "metadata": {},
   "outputs": [],
   "source": [
    "def find_pairs(input_string):\n",
    "    pairs = {}\n",
    "    for i in range(10):\n",
    "        new_pair = re.findall(str(i) + r\"{2,}\", input_string)\n",
    "        if new_pair:\n",
    "            position = input_string.find(new_pair[0])\n",
    "            pairs[new_pair[0]] = position\n",
    "    return pairs"
   ]
  },
  {
   "cell_type": "code",
   "execution_count": 66,
   "metadata": {},
   "outputs": [],
   "source": [
    "def find_passwords(input_string, pairs, pwd_length):\n",
    "    for pair, position in pairs.items():\n",
    "        passwords = []\n",
    "        pair_length = len(pair)\n",
    "        max_start_position = (len(input_sorted_string) - (pwd_length + 1))\n",
    "        while pair_length > 1:\n",
    "            start_position = 0 if position < (pwd_length - 2) else position\n",
    "            end_position = max_start_position if (position > max_start_position) else position\n",
    "            for i in range(start_position, end_position):\n",
    "                passwords.append(input_string[i:(i+pwd_length)])\n",
    "            position += 1\n",
    "            pair_length -= 1\n",
    "    return passwords"
   ]
  },
  {
   "cell_type": "code",
   "execution_count": 23,
   "metadata": {},
   "outputs": [
    {
     "name": "stdout",
     "output_type": "stream",
     "text": [
      ">>>DEBUG: 137683596253\n"
     ]
    }
   ],
   "source": [
    "input_raw = \"137683-596253\"\n",
    "input_raw = input_raw.replace(\"-\", \"\")\n",
    "print(f\">>>DEBUG: {input_raw}\")"
   ]
  },
  {
   "cell_type": "code",
   "execution_count": 24,
   "metadata": {},
   "outputs": [
    {
     "name": "stdout",
     "output_type": "stream",
     "text": [
      ">>>DEBUG: digits: ['1', '3', '7', '6', '8', '3', '5', '9', '6', '2', '5', '3']\n"
     ]
    }
   ],
   "source": [
    "input_digits = [i for i in input_raw]\n",
    "print(f\">>>DEBUG: digits: {input_digits}\")"
   ]
  },
  {
   "cell_type": "code",
   "execution_count": 25,
   "metadata": {},
   "outputs": [
    {
     "name": "stdout",
     "output_type": "stream",
     "text": [
      ">>>DEBUG: sorted: ['1', '2', '3', '3', '3', '5', '5', '6', '6', '7', '8', '9']\n"
     ]
    }
   ],
   "source": [
    "input_digits.sort()\n",
    "print(f\">>>DEBUG: sorted: {input_digits}\")"
   ]
  },
  {
   "cell_type": "code",
   "execution_count": 26,
   "metadata": {},
   "outputs": [
    {
     "name": "stdout",
     "output_type": "stream",
     "text": [
      ">>>DEBUG: sorted_string: 123335566789\n"
     ]
    }
   ],
   "source": [
    "input_sorted_string = \"\".join(input_digits)\n",
    "print(f\">>>DEBUG: sorted_string: {input_sorted_string}\")"
   ]
  },
  {
   "cell_type": "code",
   "execution_count": 58,
   "metadata": {},
   "outputs": [
    {
     "name": "stdout",
     "output_type": "stream",
     "text": [
      ">>>DEBUG: found pairs: {'333': 2, '55': 5, '66': 7}\n"
     ]
    }
   ],
   "source": [
    "found_pairs = find_pairs(input_sorted_string)\n",
    "print(f\">>>DEBUG: found pairs: {found_pairs}\")"
   ]
  },
  {
   "cell_type": "code",
   "execution_count": 67,
   "metadata": {},
   "outputs": [],
   "source": [
    "passwords = find_passwords(input_sorted_string, found_pairs, 6)"
   ]
  },
  {
   "cell_type": "code",
   "execution_count": 68,
   "metadata": {},
   "outputs": [
    {
     "data": {
      "text/plain": [
       "[]"
      ]
     },
     "execution_count": 68,
     "metadata": {},
     "output_type": "execute_result"
    }
   ],
   "source": [
    "passwords"
   ]
  },
  {
   "cell_type": "markdown",
   "metadata": {},
   "source": [
    "def generate_password_task1(range_bottom, range_top):\n",
    "    possible_passwords = []\n",
    "    numbers = [str(n) for n in range(range_bottom, range_top) if \"\".join(sorted(str(n))) == str(n)]\n",
    "    for number in numbers:\n",
    "        # pop out numbers, that have no doubles\n",
    "        count = Counter(number)\n",
    "        if not all(n == 1 for n in list(count.values())):\n",
    "            possible_passwords.append(int(number))\n",
    "    return possible_passwords"
   ]
  }
 ],
 "metadata": {
  "kernelspec": {
   "display_name": "data_science",
   "language": "python",
   "name": "data_science"
  },
  "language_info": {
   "codemirror_mode": {
    "name": "ipython",
    "version": 3
   },
   "file_extension": ".py",
   "mimetype": "text/x-python",
   "name": "python",
   "nbconvert_exporter": "python",
   "pygments_lexer": "ipython3",
   "version": "3.7.5"
  }
 },
 "nbformat": 4,
 "nbformat_minor": 4
}
