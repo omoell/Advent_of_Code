{
 "cells": [
  {
   "cell_type": "code",
   "execution_count": 1,
   "metadata": {},
   "outputs": [
    {
     "name": "stdout",
     "output_type": "stream",
     "text": [
      "The history saving thread hit an unexpected error (DatabaseError('database disk image is malformed')).History will not be written to the database.\n"
     ]
    }
   ],
   "source": [
    "import numpy as np\n",
    "import pandas as pd"
   ]
  },
  {
   "cell_type": "code",
   "execution_count": 2,
   "metadata": {},
   "outputs": [],
   "source": [
    "with open('10-input.txt', 'r') as input_file:\n",
    "    input_data = input_file.read().split('\\n')"
   ]
  },
  {
   "cell_type": "code",
   "execution_count": 3,
   "metadata": {},
   "outputs": [],
   "source": [
    "star_map = input_data[:-1]"
   ]
  },
  {
   "cell_type": "code",
   "execution_count": 5,
   "metadata": {},
   "outputs": [],
   "source": [
    "def find_asteroids(star_map):\n",
    "    homebase_coordinates = []\n",
    "    rows = len(star_map)\n",
    "    cols = len(star_map[0])\n",
    "    for row in range(rows):\n",
    "        for col in range(cols):\n",
    "            asteroid = True if star_map[row][col] == '#' else False\n",
    "            if asteroid:\n",
    "                homebase_coordinates.append((col, row))\n",
    "    return set(homebase_coordinates)"
   ]
  },
  {
   "cell_type": "code",
   "execution_count": 6,
   "metadata": {},
   "outputs": [],
   "source": [
    "def remove_asteroid(asteroid, homebase_map):\n",
    "    asteroid_tuple = asteroid,\n",
    "    asteroid_set = set(asteroid_tuple)\n",
    "#     print(f'>>>DEBUG: Map before: {homebase_map}')\n",
    "    homebase_map = set.difference(homebase_map, asteroid_set)\n",
    "#     print(f'>>>DEBUG: Map after: {homebase_map}')\n",
    "    return homebase_map"
   ]
  },
  {
   "cell_type": "code",
   "execution_count": 7,
   "metadata": {},
   "outputs": [],
   "source": [
    "def calc_line_of_sight(homebase, asteroid):\n",
    "    line_x = asteroid[0]-homebase[0]\n",
    "    line_y = asteroid[1]-homebase[1]\n",
    "    line_x = 1 if (line_y == 0) or (line_x == line_y) else line_x\n",
    "    line_y = 1 if (line_x == 0) or (line_x == line_y) else line_y\n",
    "    return (line_x, line_y)"
   ]
  },
  {
   "cell_type": "code",
   "execution_count": 15,
   "metadata": {},
   "outputs": [],
   "source": [
    "def find_visible_asteroids(homebase, asteroid_map):\n",
    "    homebase_map = asteroid_map.copy()\n",
    "    homebase_map = remove_asteroid(homebase, homebase_map)\n",
    "    asteroid = homebase_map[0]\n",
    "    line_of_sight = calc_line_of_sight(homebase, asteroid)\n",
    "    for i in range(1, 100):\n",
    "        x = asteroid[0]+(line_of_sight[0]*i)\n",
    "        y = asteroid[1]+(line_of_sight[1]*i)\n",
    "        blocked_spot = (x,y)\n",
    "        homebase_map = remove_asteroid(blocked_spot, homebase_map)\n",
    "    if len(homebase_map) > 1:\n",
    "        find-visible_asteroids(asteroid, homebase_map)\n",
    "    else:\n",
    "        return homebase_map"
   ]
  },
  {
   "cell_type": "markdown",
   "metadata": {},
   "source": [
    "def find_visible_asteroids(homebase, asteroid_map):\n",
    "    homebase_map = asteroid_map.copy()\n",
    "    homebase_map = remove_asteroid(homebase, homebase_map)\n",
    "    for asteroid in homebase_map:\n",
    "        line_of_sight = calc_line_of_sight(homebase, asteroid)\n",
    "        for i in range(1, 100):\n",
    "            x = asteroid[0]+(line_of_sight[0]*i)\n",
    "            y = asteroid[1]+(line_of_sight[1]*i)\n",
    "            blocked_spot = (x,y)\n",
    "            homebase_map = remove_asteroid(blocked_spot, homebase_map)\n",
    "    return homebase_map"
   ]
  },
  {
   "cell_type": "code",
   "execution_count": 9,
   "metadata": {},
   "outputs": [],
   "source": [
    "def evaluate_homebases(asteroid_map):\n",
    "    homebase_dict = {}\n",
    "    for homebase in asteroid_map:\n",
    "        visible_asteroids = find_visible_asteroids(homebase, asteroid_map)\n",
    "        homebase_dict[homebase] = len(visible_asteroids)\n",
    "    return homebase_dict"
   ]
  },
  {
   "cell_type": "code",
   "execution_count": 13,
   "metadata": {},
   "outputs": [
    {
     "data": {
      "text/plain": [
       "405"
      ]
     },
     "execution_count": 13,
     "metadata": {},
     "output_type": "execute_result"
    }
   ],
   "source": [
    "asteroid_map = find_asteroids(star_map)\n",
    "len(asteroid_map)"
   ]
  },
  {
   "cell_type": "code",
   "execution_count": 16,
   "metadata": {},
   "outputs": [
    {
     "ename": "TypeError",
     "evalue": "'set' object is not subscriptable",
     "output_type": "error",
     "traceback": [
      "\u001b[0;31m---------------------------------------------------------------------------\u001b[0m",
      "\u001b[0;31mTypeError\u001b[0m                                 Traceback (most recent call last)",
      "\u001b[0;32m<ipython-input-16-edbe3362fb36>\u001b[0m in \u001b[0;36m<module>\u001b[0;34m\u001b[0m\n\u001b[0;32m----> 1\u001b[0;31m \u001b[0mhomebases_evaluated\u001b[0m \u001b[0;34m=\u001b[0m \u001b[0mevaluate_homebases\u001b[0m\u001b[0;34m(\u001b[0m\u001b[0masteroid_map\u001b[0m\u001b[0;34m)\u001b[0m\u001b[0;34m\u001b[0m\u001b[0;34m\u001b[0m\u001b[0m\n\u001b[0m",
      "\u001b[0;32m<ipython-input-9-40a2c5395ab9>\u001b[0m in \u001b[0;36mevaluate_homebases\u001b[0;34m(asteroid_map)\u001b[0m\n\u001b[1;32m      2\u001b[0m     \u001b[0mhomebase_dict\u001b[0m \u001b[0;34m=\u001b[0m \u001b[0;34m{\u001b[0m\u001b[0;34m}\u001b[0m\u001b[0;34m\u001b[0m\u001b[0;34m\u001b[0m\u001b[0m\n\u001b[1;32m      3\u001b[0m     \u001b[0;32mfor\u001b[0m \u001b[0mhomebase\u001b[0m \u001b[0;32min\u001b[0m \u001b[0masteroid_map\u001b[0m\u001b[0;34m:\u001b[0m\u001b[0;34m\u001b[0m\u001b[0;34m\u001b[0m\u001b[0m\n\u001b[0;32m----> 4\u001b[0;31m         \u001b[0mvisible_asteroids\u001b[0m \u001b[0;34m=\u001b[0m \u001b[0mfind_visible_asteroids\u001b[0m\u001b[0;34m(\u001b[0m\u001b[0mhomebase\u001b[0m\u001b[0;34m,\u001b[0m \u001b[0masteroid_map\u001b[0m\u001b[0;34m)\u001b[0m\u001b[0;34m\u001b[0m\u001b[0;34m\u001b[0m\u001b[0m\n\u001b[0m\u001b[1;32m      5\u001b[0m         \u001b[0mhomebase_dict\u001b[0m\u001b[0;34m[\u001b[0m\u001b[0mhomebase\u001b[0m\u001b[0;34m]\u001b[0m \u001b[0;34m=\u001b[0m \u001b[0mlen\u001b[0m\u001b[0;34m(\u001b[0m\u001b[0mvisible_asteroids\u001b[0m\u001b[0;34m)\u001b[0m\u001b[0;34m\u001b[0m\u001b[0;34m\u001b[0m\u001b[0m\n\u001b[1;32m      6\u001b[0m     \u001b[0;32mreturn\u001b[0m \u001b[0mhomebase_dict\u001b[0m\u001b[0;34m\u001b[0m\u001b[0;34m\u001b[0m\u001b[0m\n",
      "\u001b[0;32m<ipython-input-15-9ef066e1b034>\u001b[0m in \u001b[0;36mfind_visible_asteroids\u001b[0;34m(homebase, asteroid_map)\u001b[0m\n\u001b[1;32m      2\u001b[0m     \u001b[0mhomebase_map\u001b[0m \u001b[0;34m=\u001b[0m \u001b[0masteroid_map\u001b[0m\u001b[0;34m.\u001b[0m\u001b[0mcopy\u001b[0m\u001b[0;34m(\u001b[0m\u001b[0;34m)\u001b[0m\u001b[0;34m\u001b[0m\u001b[0;34m\u001b[0m\u001b[0m\n\u001b[1;32m      3\u001b[0m     \u001b[0mhomebase_map\u001b[0m \u001b[0;34m=\u001b[0m \u001b[0mremove_asteroid\u001b[0m\u001b[0;34m(\u001b[0m\u001b[0mhomebase\u001b[0m\u001b[0;34m,\u001b[0m \u001b[0mhomebase_map\u001b[0m\u001b[0;34m)\u001b[0m\u001b[0;34m\u001b[0m\u001b[0;34m\u001b[0m\u001b[0m\n\u001b[0;32m----> 4\u001b[0;31m     \u001b[0masteroid\u001b[0m \u001b[0;34m=\u001b[0m \u001b[0mhomebase_map\u001b[0m\u001b[0;34m[\u001b[0m\u001b[0;36m0\u001b[0m\u001b[0;34m]\u001b[0m\u001b[0;34m\u001b[0m\u001b[0;34m\u001b[0m\u001b[0m\n\u001b[0m\u001b[1;32m      5\u001b[0m     \u001b[0mline_of_sight\u001b[0m \u001b[0;34m=\u001b[0m \u001b[0mcalc_line_of_sight\u001b[0m\u001b[0;34m(\u001b[0m\u001b[0mhomebase\u001b[0m\u001b[0;34m,\u001b[0m \u001b[0masteroid\u001b[0m\u001b[0;34m)\u001b[0m\u001b[0;34m\u001b[0m\u001b[0;34m\u001b[0m\u001b[0m\n\u001b[1;32m      6\u001b[0m     \u001b[0;32mfor\u001b[0m \u001b[0mi\u001b[0m \u001b[0;32min\u001b[0m \u001b[0mrange\u001b[0m\u001b[0;34m(\u001b[0m\u001b[0;36m1\u001b[0m\u001b[0;34m,\u001b[0m \u001b[0;36m100\u001b[0m\u001b[0;34m)\u001b[0m\u001b[0;34m:\u001b[0m\u001b[0;34m\u001b[0m\u001b[0;34m\u001b[0m\u001b[0m\n",
      "\u001b[0;31mTypeError\u001b[0m: 'set' object is not subscriptable"
     ]
    }
   ],
   "source": [
    "homebases_evaluated = evaluate_homebases(asteroid_map)"
   ]
  },
  {
   "cell_type": "code",
   "execution_count": 12,
   "metadata": {},
   "outputs": [
    {
     "data": {
      "text/html": [
       "<div>\n",
       "<style scoped>\n",
       "    .dataframe tbody tr th:only-of-type {\n",
       "        vertical-align: middle;\n",
       "    }\n",
       "\n",
       "    .dataframe tbody tr th {\n",
       "        vertical-align: top;\n",
       "    }\n",
       "\n",
       "    .dataframe thead th {\n",
       "        text-align: right;\n",
       "    }\n",
       "</style>\n",
       "<table border=\"1\" class=\"dataframe\">\n",
       "  <thead>\n",
       "    <tr style=\"text-align: right;\">\n",
       "      <th></th>\n",
       "      <th></th>\n",
       "      <th>0</th>\n",
       "    </tr>\n",
       "  </thead>\n",
       "  <tbody>\n",
       "    <tr>\n",
       "      <th rowspan=\"2\" valign=\"top\">23</th>\n",
       "      <th>13</th>\n",
       "      <td>320</td>\n",
       "    </tr>\n",
       "    <tr>\n",
       "      <th>19</th>\n",
       "      <td>315</td>\n",
       "    </tr>\n",
       "    <tr>\n",
       "      <th>3</th>\n",
       "      <th>7</th>\n",
       "      <td>313</td>\n",
       "    </tr>\n",
       "    <tr>\n",
       "      <th>23</th>\n",
       "      <th>7</th>\n",
       "      <td>313</td>\n",
       "    </tr>\n",
       "    <tr>\n",
       "      <th>26</th>\n",
       "      <th>23</th>\n",
       "      <td>313</td>\n",
       "    </tr>\n",
       "    <tr>\n",
       "      <th>...</th>\n",
       "      <th>...</th>\n",
       "      <td>...</td>\n",
       "    </tr>\n",
       "    <tr>\n",
       "      <th>12</th>\n",
       "      <th>16</th>\n",
       "      <td>272</td>\n",
       "    </tr>\n",
       "    <tr>\n",
       "      <th>14</th>\n",
       "      <th>4</th>\n",
       "      <td>271</td>\n",
       "    </tr>\n",
       "    <tr>\n",
       "      <th>6</th>\n",
       "      <th>26</th>\n",
       "      <td>271</td>\n",
       "    </tr>\n",
       "    <tr>\n",
       "      <th>10</th>\n",
       "      <th>0</th>\n",
       "      <td>265</td>\n",
       "    </tr>\n",
       "    <tr>\n",
       "      <th>18</th>\n",
       "      <th>4</th>\n",
       "      <td>265</td>\n",
       "    </tr>\n",
       "  </tbody>\n",
       "</table>\n",
       "<p>405 rows × 1 columns</p>\n",
       "</div>"
      ],
      "text/plain": [
       "         0\n",
       "23 13  320\n",
       "   19  315\n",
       "3  7   313\n",
       "23 7   313\n",
       "26 23  313\n",
       "...    ...\n",
       "12 16  272\n",
       "14 4   271\n",
       "6  26  271\n",
       "10 0   265\n",
       "18 4   265\n",
       "\n",
       "[405 rows x 1 columns]"
      ]
     },
     "execution_count": 12,
     "metadata": {},
     "output_type": "execute_result"
    }
   ],
   "source": [
    "df_homebases = pd.DataFrame(index=homebases_evaluated.keys(), data=homebases_evaluated.values())\n",
    "df_homebases.sort_values(by=0, ascending=False)\n",
    "    "
   ]
  },
  {
   "cell_type": "code",
   "execution_count": null,
   "metadata": {},
   "outputs": [],
   "source": [
    "test_list = [(1,2), (3,4), (4,5)]\n",
    "test = set(test_list)\n",
    "test2_list = (1,2)\n",
    "test2 = set(test2_list,)"
   ]
  },
  {
   "cell_type": "code",
   "execution_count": null,
   "metadata": {},
   "outputs": [],
   "source": [
    "test.difference(test2)"
   ]
  },
  {
   "cell_type": "code",
   "execution_count": null,
   "metadata": {},
   "outputs": [],
   "source": [
    "test2"
   ]
  }
 ],
 "metadata": {
  "kernelspec": {
   "display_name": "data_science",
   "language": "python",
   "name": "data_science"
  },
  "language_info": {
   "codemirror_mode": {
    "name": "ipython",
    "version": 3
   },
   "file_extension": ".py",
   "mimetype": "text/x-python",
   "name": "python",
   "nbconvert_exporter": "python",
   "pygments_lexer": "ipython3",
   "version": "3.7.5"
  }
 },
 "nbformat": 4,
 "nbformat_minor": 4
}
