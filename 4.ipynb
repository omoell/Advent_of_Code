{
 "cells": [
  {
   "cell_type": "markdown",
   "metadata": {},
   "source": [
    "# Quiz 4a\n",
    "\n",
    "You arrive at the Venus fuel depot only to discover it's protected by a password. The Elves had written the password on a sticky note, but someone threw it out.\n",
    "\n",
    "However, they do remember a few key facts about the password:\n",
    "\n",
    "It is a six-digit number.\n",
    "The value is within the range given in your puzzle input.\n",
    "Two adjacent digits are the same (like 22 in 122345).\n",
    "Going from left to right, the digits never decrease; they only ever increase or stay the same (like 111123 or 135679).\n",
    "Other than the range rule, the following are true:\n",
    "\n",
    "111111 meets these criteria (double 11, never decreases).\n",
    "223450 does not meet these criteria (decreasing pair of digits 50).\n",
    "123789 does not meet these criteria (no double).\n",
    "How many different passwords within the range given in your puzzle input meet these criteria?\n",
    "\n",
    "Your puzzle input is 137683-596253"
   ]
  },
  {
   "cell_type": "code",
   "execution_count": 15,
   "metadata": {},
   "outputs": [],
   "source": [
    "from collections import Counter"
   ]
  },
  {
   "cell_type": "code",
   "execution_count": 5,
   "metadata": {},
   "outputs": [],
   "source": [
    "input = \"137683-596253\"\n",
    "limits = [int(limit) for limit in input.split(\"-\")]\n",
    "lower_limit = limits[0]\n",
    "upper_limit = limits[1]"
   ]
  },
  {
   "cell_type": "code",
   "execution_count": 13,
   "metadata": {},
   "outputs": [],
   "source": [
    "def identify_potential_passwords(range_lower, range_upper):\n",
    "    potential_passwords = []\n",
    "    numbers = [str(n) for n in range(range_lower, (range_upper + 1)) if ''.join(sorted(str(n))) == str(n)]\n",
    "    for number in numbers:\n",
    "        # pop out numbers, that have no doubles\n",
    "        count = Counter(number)\n",
    "        if not all(n == 1 for n in list(count.values())):\n",
    "            potential_passwords.append(int(number))\n",
    "    return potential_passwords"
   ]
  },
  {
   "cell_type": "code",
   "execution_count": 22,
   "metadata": {},
   "outputs": [],
   "source": [
    "def identify_potential_passwords(range_lower, range_upper):\n",
    "    potential_passwords = []\n",
    "    numbers = [str(n) for n in range(range_lower, (range_upper + 1)) if ''.join(sorted(str(n))) == str(n)]\n",
    "    for number in numbers:\n",
    "        # pop out numbers, that have no doubles\n",
    "        count = Counter(number)\n",
    "#         if max(list(count.values())) > 1: # solution to 4a\n",
    "        if 2 in list(count.values()): # solution to 4b\n",
    "            potential_passwords.append(int(number))\n",
    "    return potential_passwords"
   ]
  },
  {
   "cell_type": "code",
   "execution_count": 23,
   "metadata": {},
   "outputs": [
    {
     "name": "stdout",
     "output_type": "stream",
     "text": [
      "Number of potential passwords: 1258\n"
     ]
    }
   ],
   "source": [
    "potential_passwords = identify_potential_passwords(lower_limit, upper_limit)\n",
    "print(f\"Number of potential passwords: {len(potential_passwords)}\")"
   ]
  },
  {
   "cell_type": "markdown",
   "metadata": {},
   "source": [
    "# Quiz 4b\n",
    "\n",
    "An Elf just remembered one more important detail: the two adjacent matching digits are not part of a larger group of matching digits.\n",
    "\n",
    "Given this additional criterion, but still ignoring the range rule, the following are now true:\n",
    "\n",
    "112233 meets these criteria because the digits never decrease and all repeated digits are exactly two digits long.\n",
    "123444 no longer meets the criteria (the repeated 44 is part of a larger group of 444).\n",
    "111122 meets the criteria (even though 1 is repeated more than twice, it still contains a double 22).\n",
    "How many different passwords within the range given in your puzzle input meet all of the criteria?"
   ]
  },
  {
   "cell_type": "markdown",
   "metadata": {},
   "source": [
    "Solution see in cell for definition of function **`identify_potential_passwords`**"
   ]
  }
 ],
 "metadata": {
  "kernelspec": {
   "display_name": "data_science",
   "language": "python",
   "name": "data_science"
  },
  "language_info": {
   "codemirror_mode": {
    "name": "ipython",
    "version": 3
   },
   "file_extension": ".py",
   "mimetype": "text/x-python",
   "name": "python",
   "nbconvert_exporter": "python",
   "pygments_lexer": "ipython3",
   "version": "3.7.5"
  }
 },
 "nbformat": 4,
 "nbformat_minor": 4
}
