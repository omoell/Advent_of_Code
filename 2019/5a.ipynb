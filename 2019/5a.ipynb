{
 "cells": [
  {
   "cell_type": "markdown",
   "metadata": {
    "toc-hr-collapsed": true
   },
   "source": [
    "# Quiz 5a\n",
    "\n",
    "The Thermal Environment Supervision Terminal (TEST) starts by running a diagnostic program (your puzzle input). The TEST diagnostic program will run on your existing Intcode computer after a few modifications:\n",
    "\n",
    "First, you'll need to add two new instructions:\n",
    "\n",
    "Opcode 3 takes a single integer as input and saves it to the address given by its only parameter. For example, the instruction 3,50 would take an input value and store it at address 50.\n",
    "Opcode 4 outputs the value of its only parameter. For example, the instruction 4,50 would output the value at address 50.\n",
    "Programs that use these instructions will come with documentation that explains what should be connected to the input and output. The program 3,0,4,0,99 outputs whatever it gets as input, then halts.\n",
    "\n",
    "Second, you'll need to add support for parameter modes:\n",
    "\n",
    "Each parameter of an instruction is handled based on its parameter mode. Right now, your ship computer already understands parameter mode 0, position mode, which causes the parameter to be interpreted as a position - if the parameter is 50, its value is the value stored at address 50 in memory. Until now, all parameters have been in position mode.\n",
    "\n",
    "Now, your ship computer will also need to handle parameters in mode 1, immediate mode. In immediate mode, a parameter is interpreted as a value - if the parameter is 50, its value is simply 50.\n",
    "\n",
    "Parameter modes are stored in the same value as the instruction's opcode. The opcode is a two-digit number based only on the ones and tens digit of the value, that is, the opcode is the rightmost two digits of the first value in an instruction. Parameter modes are single digits, one per parameter, read right-to-left from the opcode: the first parameter's mode is in the hundreds digit, the second parameter's mode is in the thousands digit, the third parameter's mode is in the ten-thousands digit, and so on. Any missing modes are 0.\n",
    "\n",
    "For example, consider the program 1002,4,3,4,33.\n",
    "\n",
    "The first instruction, 1002,4,3,4, is a multiply instruction - the rightmost two digits of the first value, 02, indicate opcode 2, multiplication. Then, going right to left, the parameter modes are 0 (hundreds digit), 1 (thousands digit), and 0 (ten-thousands digit, not present and therefore zero):\n",
    "\n",
    "ABCDE\n",
    " 1002\n",
    "\n",
    "DE - two-digit opcode,      02 == opcode 2\n",
    " C - mode of 1st parameter,  0 == position mode\n",
    " B - mode of 2nd parameter,  1 == immediate mode\n",
    " A - mode of 3rd parameter,  0 == position mode,\n",
    "                                  omitted due to being a leading zero\n",
    "This instruction multiplies its first two parameters. The first parameter, 4 in position mode, works like it did before - its value is the value stored at address 4 (33). The second parameter, 3 in immediate mode, simply has value 3. The result of this operation, 33 * 3 = 99, is written according to the third parameter, 4 in position mode, which also works like it did before - 99 is written to address 4.\n",
    "\n",
    "Parameters that an instruction writes to will never be in immediate mode.\n",
    "\n",
    "Finally, some notes:\n",
    "\n",
    "It is important to remember that the instruction pointer should increase by the number of values in the instruction after the instruction finishes. Because of the new instructions, this amount is no longer always 4.\n",
    "Integers can be negative: 1101,100,-1,4,0 is a valid program (find 100 + -1, store the result in position 4).\n",
    "The TEST diagnostic program will start by requesting from the user the ID of the system to test by running an input instruction - provide it 1, the ID for the ship's air conditioner unit.\n",
    "\n",
    "It will then perform a series of diagnostic tests confirming that various parts of the Intcode computer, like parameter modes, function correctly. For each test, it will run an output instruction indicating how far the result of the test was from the expected value, where 0 means the test was successful. Non-zero outputs mean that a function is not working correctly; check the instructions that were run before the output instruction to see which one failed.\n",
    "\n",
    "Finally, the program will output a diagnostic code and immediately halt. This final output isn't an error; an output followed immediately by a halt means the program finished. If all outputs were zero except the diagnostic code, the diagnostic program ran successfully.\n",
    "\n",
    "After providing 1 to the only input instruction and passing all the tests, what diagnostic code does the program produce?"
   ]
  },
  {
   "cell_type": "code",
   "execution_count": 1,
   "metadata": {},
   "outputs": [],
   "source": [
    "def opcode_one(intcode, actual_position):\n",
    "    new_value = 0\n",
    "    end_position = (actual_position + 3)\n",
    "    for position in range(actual_position, end_position):\n",
    "#         print(f\">>>DEBUG: position: {position}, value: {intcode[position]}\")\n",
    "        pos_first_value = intcode[(position + 1)]\n",
    "        pos_second_value = intcode[(position + 2)]\n",
    "        save_position = intcode[(position + 3)]\n",
    "        if intcode[position] == 1:\n",
    "            new_value = intcode[pos_first_value] + intcode[(pos_second_value)]\n",
    "        elif intcode[position] == 2:\n",
    "            new_value = intcode[(pos_first_value)] * intcode[(pos_second_value)]\n",
    "#             print(f\">>>DEBUG: {save_position}\")\n",
    "        intcode[save_position] = new_value\n",
    "    return intcode"
   ]
  },
  {
   "cell_type": "code",
   "execution_count": 1,
   "metadata": {},
   "outputs": [],
   "source": [
    "def opcode_two(intcode):\n",
    "    new_value = 0\n",
    "    for position in range(0, len(intcode), 4):\n",
    "#         print(f\">>>DEBUG: position: {position}, value: {intcode[position]}\")\n",
    "        if intcode[position] == 99:\n",
    "            return intcode\n",
    "        else:\n",
    "            pos_first_value = intcode[(position + 1)]\n",
    "            pos_second_value = intcode[(position + 2)]\n",
    "            save_position = intcode[(position + 3)]\n",
    "            if intcode[position] == 1:\n",
    "                new_value = intcode[pos_first_value] + intcode[(pos_second_value)]\n",
    "            elif intcode[position] == 2:\n",
    "                new_value = intcode[(pos_first_value)] * intcode[(pos_second_value)]\n",
    "#             print(f\">>>DEBUG: {save_position}\")\n",
    "            intcode[save_position] = new_value\n",
    "    return intcode"
   ]
  },
  {
   "cell_type": "code",
   "execution_count": 1,
   "metadata": {},
   "outputs": [],
   "source": [
    "def opcode_three(intcode):\n",
    "    new_value = 0\n",
    "    for position in range(0, len(intcode), 4):\n",
    "#         print(f\">>>DEBUG: position: {position}, value: {intcode[position]}\")\n",
    "        if intcode[position] == 99:\n",
    "            return intcode\n",
    "        else:\n",
    "            pos_first_value = intcode[(position + 1)]\n",
    "            pos_second_value = intcode[(position + 2)]\n",
    "            save_position = intcode[(position + 3)]\n",
    "            if intcode[position] == 1:\n",
    "                new_value = intcode[pos_first_value] + intcode[(pos_second_value)]\n",
    "            elif intcode[position] == 2:\n",
    "                new_value = intcode[(pos_first_value)] * intcode[(pos_second_value)]\n",
    "#             print(f\">>>DEBUG: {save_position}\")\n",
    "            intcode[save_position] = new_value\n",
    "    return intcode"
   ]
  },
  {
   "cell_type": "code",
   "execution_count": 1,
   "metadata": {},
   "outputs": [],
   "source": [
    "def opcode_four(intcode):\n",
    "    new_value = 0\n",
    "    for position in range(0, len(intcode), 4):\n",
    "#         print(f\">>>DEBUG: position: {position}, value: {intcode[position]}\")\n",
    "        if intcode[position] == 99:\n",
    "            return intcode\n",
    "        else:\n",
    "            pos_first_value = intcode[(position + 1)]\n",
    "            pos_second_value = intcode[(position + 2)]\n",
    "            save_position = intcode[(position + 3)]\n",
    "            if intcode[position] == 1:\n",
    "                new_value = intcode[pos_first_value] + intcode[(pos_second_value)]\n",
    "            elif intcode[position] == 2:\n",
    "                new_value = intcode[(pos_first_value)] * intcode[(pos_second_value)]\n",
    "#             print(f\">>>DEBUG: {save_position}\")\n",
    "            intcode[save_position] = new_value\n",
    "    return intcode"
   ]
  },
  {
   "cell_type": "markdown",
   "metadata": {},
   "source": [
    "## Test program"
   ]
  },
  {
   "cell_type": "code",
   "execution_count": null,
   "metadata": {},
   "outputs": [],
   "source": [
    "test_intcode = [1,9,10,3,2,3,11,0,99,30,40,50]\n",
    "\n",
    "test_intcode_result = intcode_calculator(test_intcode)\n",
    "print(test_intcode_result)"
   ]
  },
  {
   "cell_type": "markdown",
   "metadata": {},
   "source": [
    "## Calculate result"
   ]
  },
  {
   "cell_type": "code",
   "execution_count": 2,
   "metadata": {},
   "outputs": [],
   "source": [
    "with open(\"2-input.txt\", \"r\") as input_file:\n",
    "    file_content = input_file.read()\n",
    "    intcode_input = [int(i) for i in file_content.split(\",\")]"
   ]
  },
  {
   "cell_type": "code",
   "execution_count": null,
   "metadata": {},
   "outputs": [],
   "source": [
    "intcode_input[1] = 12\n",
    "intcode_input[2] = 2\n",
    "\n",
    "intcode_processed = intcode_calculator(intcode_input.copy())\n",
    "\n",
    "print(f\"Result: {intcode_processed[0]}\")\n",
    "print(f\"Processed intcode: {intcode_processed}\")"
   ]
  },
  {
   "cell_type": "markdown",
   "metadata": {},
   "source": [
    "# Quiz 2b\n",
    "\n",
    "\"With terminology out of the way, we're ready to proceed. To complete the gravity assist, you need to determine what pair of inputs produces the output 19690720.\"\n",
    "\n",
    "The inputs should still be provided to the program by replacing the values at addresses 1 and 2, just like before. In this program, the value placed in address 1 is called the noun, and the value placed in address 2 is called the verb. Each of the two input values will be between 0 and 99, inclusive.\n",
    "\n",
    "Once the program has halted, its output is available at address 0, also just like before. Each time you try a pair of inputs, make sure you first reset the computer's memory to the values in the program (your puzzle input) - in other words, don't reuse memory from a previous attempt.\n",
    "\n",
    "Find the input noun and verb that cause the program to produce the output 19690720. What is 100 * noun + verb? (For example, if noun=12 and verb=2, the answer would be 1202.)"
   ]
  },
  {
   "cell_type": "code",
   "execution_count": 3,
   "metadata": {},
   "outputs": [
    {
     "name": "stdout",
     "output_type": "stream",
     "text": [
      "Noun: 38, Verb: 92\n",
      "Result = 3892\n"
     ]
    }
   ],
   "source": [
    "noun = 1\n",
    "verb = 1\n",
    "result = 0\n",
    "target = 19690720\n",
    "\n",
    "while result != target:\n",
    "    if (result - target) < 0:\n",
    "        if noun <= 99:\n",
    "            noun +=1\n",
    "        else:\n",
    "            noun = 1\n",
    "            verb +=1\n",
    "    else:\n",
    "        noun = 1\n",
    "        verb += 1\n",
    "    intcode_input[1] = noun\n",
    "    intcode_input[2] = verb\n",
    "    intcode_processed = intcode_calculator(intcode_input.copy())\n",
    "    result = intcode_processed[0]\n",
    "    \n",
    "print(f\"Noun: {noun}, Verb: {verb}\")\n",
    "print(f\"Result = {100*noun + verb}\")"
   ]
  },
  {
   "cell_type": "code",
   "execution_count": null,
   "metadata": {},
   "outputs": [],
   "source": []
  }
 ],
 "metadata": {
  "kernelspec": {
   "display_name": "data_science",
   "language": "python",
   "name": "data_science"
  },
  "language_info": {
   "codemirror_mode": {
    "name": "ipython",
    "version": 3
   },
   "file_extension": ".py",
   "mimetype": "text/x-python",
   "name": "python",
   "nbconvert_exporter": "python",
   "pygments_lexer": "ipython3",
   "version": "3.7.5"
  },
  "toc-autonumbering": false,
  "toc-showmarkdowntxt": false
 },
 "nbformat": 4,
 "nbformat_minor": 4
}
