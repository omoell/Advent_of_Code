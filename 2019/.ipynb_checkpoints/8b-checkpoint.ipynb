{
 "cells": [
  {
   "cell_type": "markdown",
   "metadata": {},
   "source": [
    "# Quiz 8b\n",
    "\n",
    "When you reach the rover, you discover that it's already in the process of rebooting! It's just waiting for someone to enter a BIOS password. The Elf responsible for the rover takes a Now you're ready to decode the image. The image is rendered by stacking the layers and aligning the pixels with the same positions in each layer. The digits indicate the color of the corresponding pixel: 0 is black, 1 is white, and 2 is transparent.\n",
    "\n",
    "The layers are rendered with the first layer in front and the last layer in back. So, if a given position has a transparent pixel in the first and second layers, a black pixel in the third layer, and a white pixel in the fourth layer, the final image would have a black pixel at that position.\n",
    "\n",
    "For example, given an image 2 pixels wide and 2 pixels tall, the image data 0222112222120000 corresponds to the following image layers:\n",
    "\n",
    "Layer 1: 02\n",
    "         22\n",
    "\n",
    "Layer 2: 11\n",
    "         22\n",
    "\n",
    "Layer 3: 22\n",
    "         12\n",
    "\n",
    "Layer 4: 00\n",
    "         00\n",
    "Then, the full image can be found by determining the top visible pixel in each position:\n",
    "\n",
    "The top-left pixel is black because the top layer is 0.\n",
    "The top-right pixel is white because the top layer is 2 (transparent), but the second layer is 1.\n",
    "The bottom-left pixel is white because the top two layers are 2, but the third layer is 1.\n",
    "The bottom-right pixel is black because the only visible pixel in that position is 0 (from layer 4).\n",
    "So, the final image looks like this:\n",
    "\n",
    "01\n",
    "10\n",
    "What message is produced after decoding your image?"
   ]
  },
  {
   "cell_type": "code",
   "execution_count": 51,
   "metadata": {},
   "outputs": [],
   "source": [
    "import sys\n",
    "import numpy\n",
    "numpy.set_printoptions(linewidth=sys.maxsize)"
   ]
  },
  {
   "cell_type": "code",
   "execution_count": 1,
   "metadata": {},
   "outputs": [],
   "source": [
    "with open('8-input.txt', 'r') as input_file:\n",
    "    input_data = input_file.read()\n",
    "    input_data = input_data.strip()"
   ]
  },
  {
   "cell_type": "code",
   "execution_count": 25,
   "metadata": {},
   "outputs": [],
   "source": [
    "def find_pixel_color(input_data, pixel, size_of_layer):\n",
    "    no_of_layers = int(len(input_data) / size_of_layer)\n",
    "    for layer in range(no_of_layers):\n",
    "        pixel_value = input_data[pixel]\n",
    "#         print(f\">>>DEBUG: layer {layer} with pixel_value {pixel_value}\")\n",
    "        if pixel_value in ['0','1']:\n",
    "            return int(pixel_value)\n",
    "        else:\n",
    "            pixel += size_of_layer"
   ]
  },
  {
   "cell_type": "code",
   "execution_count": 26,
   "metadata": {},
   "outputs": [],
   "source": [
    "def build_visible_layer(input_data, wide, tall):\n",
    "    size_of_layer = wide * tall\n",
    "#     print(f\">>>DEBUG: size of layer: {size_of_layer}\")\n",
    "    visible_pixels = []\n",
    "    for pixel in range(size_of_layer):\n",
    "        visible_pixels.append(find_pixel_color(input_data, pixel, size_of_layer))\n",
    "    return visible_pixels"
   ]
  },
  {
   "cell_type": "code",
   "execution_count": 42,
   "metadata": {},
   "outputs": [],
   "source": [
    "def build_picture(layer, wide, tall):\n",
    "    picture_array = np.array([layer[(wide*x):(wide*x+wide)] for x in range(tall)])\n",
    "    return picture_array"
   ]
  },
  {
   "cell_type": "code",
   "execution_count": 32,
   "metadata": {},
   "outputs": [],
   "source": [
    "wide = 25\n",
    "tall = 6\n",
    "\n",
    "visible_layer_inline = build_visible_layer(input_data, wide, tall)"
   ]
  },
  {
   "cell_type": "code",
   "execution_count": null,
   "metadata": {},
   "outputs": [],
   "source": [
    "print(f\">>>DEBUG: visible layer: {visible_layer_inline}\")"
   ]
  },
  {
   "cell_type": "code",
   "execution_count": 54,
   "metadata": {},
   "outputs": [
    {
     "name": "stdout",
     "output_type": "stream",
     "text": [
      "[[89  1  1 89  1 89 89 89  1  1 89  1  1 89  1 89 89 89 89  1 89 89 89  1  1]\n",
      " [89  1  1 89  1 89  1  1 89  1 89  1  1 89  1 89  1  1  1  1 89  1  1 89  1]\n",
      " [89  1  1 89  1 89 89 89  1  1 89  1  1 89  1 89 89 89  1  1 89  1  1 89  1]\n",
      " [89  1  1 89  1 89  1  1 89  1 89  1  1 89  1 89  1  1  1  1 89 89 89  1  1]\n",
      " [89  1  1 89  1 89  1  1 89  1 89  1  1 89  1 89  1  1  1  1 89  1  1  1  1]\n",
      " [ 1 89 89  1  1 89 89 89  1  1  1 89 89  1  1 89  1  1  1  1 89  1  1  1  1]]\n"
     ]
    }
   ],
   "source": [
    "picture = build_picture(visible_layer_inline, wide, tall)\n",
    "picture = picture * 88 # improve readability of result\n",
    "picture = picture + 1 # improve readability of result\n",
    "print(picture)"
   ]
  }
 ],
 "metadata": {
  "kernelspec": {
   "display_name": "data_science",
   "language": "python",
   "name": "data_science"
  },
  "language_info": {
   "codemirror_mode": {
    "name": "ipython",
    "version": 3
   },
   "file_extension": ".py",
   "mimetype": "text/x-python",
   "name": "python",
   "nbconvert_exporter": "python",
   "pygments_lexer": "ipython3",
   "version": "3.7.5"
  }
 },
 "nbformat": 4,
 "nbformat_minor": 4
}
