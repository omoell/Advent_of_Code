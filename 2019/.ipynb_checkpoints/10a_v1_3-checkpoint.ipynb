{
 "cells": [
  {
   "cell_type": "code",
   "execution_count": 1,
   "metadata": {},
   "outputs": [
    {
     "name": "stdout",
     "output_type": "stream",
     "text": [
      "The history saving thread hit an unexpected error (DatabaseError('database disk image is malformed')).History will not be written to the database.\n"
     ]
    }
   ],
   "source": [
    "import numpy as np\n",
    "import pandas as pd\n",
    "import math"
   ]
  },
  {
   "cell_type": "code",
   "execution_count": 2,
   "metadata": {},
   "outputs": [],
   "source": [
    "with open('10-input.txt', 'r') as input_file:\n",
    "    input_data = input_file.read().split('\\n')"
   ]
  },
  {
   "cell_type": "code",
   "execution_count": 3,
   "metadata": {},
   "outputs": [],
   "source": [
    "star_map = input_data[:-1]"
   ]
  },
  {
   "cell_type": "markdown",
   "metadata": {},
   "source": [
    "star_map = input_data"
   ]
  },
  {
   "cell_type": "code",
   "execution_count": 4,
   "metadata": {},
   "outputs": [],
   "source": [
    "# create a list containing only coordinates of asteroids\n",
    "def find_asteroids(star_map):\n",
    "    homebase_coordinates = []\n",
    "    rows = len(star_map)\n",
    "    cols = len(star_map[0])\n",
    "    for row in range(rows):\n",
    "        for col in range(cols):\n",
    "            asteroid = True if star_map[row][col] == '#' else False\n",
    "            if asteroid:\n",
    "                homebase_coordinates.append((col, row))\n",
    "    return homebase_coordinates"
   ]
  },
  {
   "cell_type": "code",
   "execution_count": null,
   "metadata": {},
   "outputs": [],
   "source": [
    "# vector length only required to calculate the unit vector\n",
    "def calc_vector_length(vector):\n",
    "    x, y  = vector\n",
    "    length = np.sqrt(x**2 + y**2)\n",
    "    return length"
   ]
  },
  {
   "cell_type": "code",
   "execution_count": 26,
   "metadata": {},
   "outputs": [],
   "source": [
    "# each unit vector is of length 1\n",
    "def calc_unit_vector(vector):\n",
    "    x, y = vector\n",
    "    length = calc_vector_length(vector)\n",
    "    unit_vector = (round(x / length, 5), round(y / length, 5))\n",
    "#     print(f'>>>DEBUG: vector: {vector}, unit_vector: {unit_vector}')\n",
    "    return unit_vector"
   ]
  },
  {
   "cell_type": "code",
   "execution_count": 23,
   "metadata": {},
   "outputs": [],
   "source": [
    "def find_visible_asteroids(homebase, homebase_map):\n",
    "    slope_count = set()\n",
    "    for asteroid in homebase_map:\n",
    "        vector = asteroid[0]-homebase[0], asteroid[1]-homebase[1]\n",
    "        unit_vector = calc_unit_vector(vector) # normalization required for asteroids that are in line on the x and y axis\n",
    "#         print(f'>>>DEBUG: unit vector: {vector}')\n",
    "        slope_count.add(unit_vector)\n",
    "#         print(f'>>>DEBUG: {slope_count}')\n",
    "    return slope_count"
   ]
  },
  {
   "cell_type": "code",
   "execution_count": 14,
   "metadata": {},
   "outputs": [],
   "source": [
    "def evaluate_homebases(asteroid_map):\n",
    "    homebase_dict = {}\n",
    "    for homebase in asteroid_map:\n",
    "        homebase_map = list(asteroid_map)\n",
    "        homebase_map.remove(homebase,)\n",
    "#         print(f'DEBUG>>> length homebase map: {len(homebase_map)}')\n",
    "        slope_count = find_visible_asteroids(homebase, homebase_map)\n",
    "        homebase_dict[homebase] = len(slope_count)\n",
    "    return homebase_dict"
   ]
  },
  {
   "cell_type": "code",
   "execution_count": 18,
   "metadata": {},
   "outputs": [],
   "source": [
    "asteroid_map = find_asteroids(star_map)"
   ]
  },
  {
   "cell_type": "code",
   "execution_count": 27,
   "metadata": {},
   "outputs": [],
   "source": [
    "homebases_evaluated = evaluate_homebases(asteroid_map)"
   ]
  },
  {
   "cell_type": "code",
   "execution_count": 28,
   "metadata": {},
   "outputs": [
    {
     "data": {
      "text/html": [
       "<div>\n",
       "<style scoped>\n",
       "    .dataframe tbody tr th:only-of-type {\n",
       "        vertical-align: middle;\n",
       "    }\n",
       "\n",
       "    .dataframe tbody tr th {\n",
       "        vertical-align: top;\n",
       "    }\n",
       "\n",
       "    .dataframe thead th {\n",
       "        text-align: right;\n",
       "    }\n",
       "</style>\n",
       "<table border=\"1\" class=\"dataframe\">\n",
       "  <thead>\n",
       "    <tr style=\"text-align: right;\">\n",
       "      <th></th>\n",
       "      <th></th>\n",
       "      <th>0</th>\n",
       "    </tr>\n",
       "  </thead>\n",
       "  <tbody>\n",
       "    <tr>\n",
       "      <th>17</th>\n",
       "      <th>23</th>\n",
       "      <td>296</td>\n",
       "    </tr>\n",
       "    <tr>\n",
       "      <th rowspan=\"4\" valign=\"top\">23</th>\n",
       "      <th>13</th>\n",
       "      <td>295</td>\n",
       "    </tr>\n",
       "    <tr>\n",
       "      <th>19</th>\n",
       "      <td>295</td>\n",
       "    </tr>\n",
       "    <tr>\n",
       "      <th>23</th>\n",
       "      <td>295</td>\n",
       "    </tr>\n",
       "    <tr>\n",
       "      <th>7</th>\n",
       "      <td>295</td>\n",
       "    </tr>\n",
       "    <tr>\n",
       "      <th>...</th>\n",
       "      <th>...</th>\n",
       "      <td>...</td>\n",
       "    </tr>\n",
       "    <tr>\n",
       "      <th>6</th>\n",
       "      <th>26</th>\n",
       "      <td>263</td>\n",
       "    </tr>\n",
       "    <tr>\n",
       "      <th>0</th>\n",
       "      <th>20</th>\n",
       "      <td>263</td>\n",
       "    </tr>\n",
       "    <tr>\n",
       "      <th>10</th>\n",
       "      <th>0</th>\n",
       "      <td>262</td>\n",
       "    </tr>\n",
       "    <tr>\n",
       "      <th>18</th>\n",
       "      <th>4</th>\n",
       "      <td>260</td>\n",
       "    </tr>\n",
       "    <tr>\n",
       "      <th>26</th>\n",
       "      <th>16</th>\n",
       "      <td>259</td>\n",
       "    </tr>\n",
       "  </tbody>\n",
       "</table>\n",
       "<p>405 rows × 1 columns</p>\n",
       "</div>"
      ],
      "text/plain": [
       "         0\n",
       "17 23  296\n",
       "23 13  295\n",
       "   19  295\n",
       "   23  295\n",
       "   7   295\n",
       "...    ...\n",
       "6  26  263\n",
       "0  20  263\n",
       "10 0   262\n",
       "18 4   260\n",
       "26 16  259\n",
       "\n",
       "[405 rows x 1 columns]"
      ]
     },
     "execution_count": 28,
     "metadata": {},
     "output_type": "execute_result"
    }
   ],
   "source": [
    "df_homebases = pd.DataFrame(index=homebases_evaluated.keys(), data=homebases_evaluated.values())\n",
    "df_homebases.sort_values(by=0, ascending=False)"
   ]
  },
  {
   "cell_type": "code",
   "execution_count": null,
   "metadata": {},
   "outputs": [],
   "source": []
  }
 ],
 "metadata": {
  "kernelspec": {
   "display_name": "data_science",
   "language": "python",
   "name": "data_science"
  },
  "language_info": {
   "codemirror_mode": {
    "name": "ipython",
    "version": 3
   },
   "file_extension": ".py",
   "mimetype": "text/x-python",
   "name": "python",
   "nbconvert_exporter": "python",
   "pygments_lexer": "ipython3",
   "version": "3.7.5"
  }
 },
 "nbformat": 4,
 "nbformat_minor": 4
}
