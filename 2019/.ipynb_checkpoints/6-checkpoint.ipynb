{
 "cells": [
  {
   "cell_type": "markdown",
   "metadata": {},
   "source": [
    "# Quiz 6a\n",
    "\n",
    "Before you use your map data to plot a course, you need to make sure it wasn't corrupted during the download. To verify maps, the Universal Orbit Map facility uses orbit count checksums - the total number of direct orbits (like the one shown above) and indirect orbits.\n",
    "\n",
    "Whenever A orbits B and B orbits C, then A indirectly orbits C. This chain can be any number of objects long: if A orbits B, B orbits C, and C orbits D, then A indirectly orbits D.\n",
    "\n",
    "For example, suppose you have the following map:\n",
    "\n",
    "COM)B  \n",
    "B)C  \n",
    "C)D  \n",
    "D)E  \n",
    "E)F  \n",
    "B)G  \n",
    "G)H  \n",
    "D)I  \n",
    "E)J  \n",
    "J)K  \n",
    "K)L  \n",
    "\n",
    "Visually, the above map of orbits looks like this:\n",
    "\n",
    "        G - H       J - K - L\n",
    "       /           /\n",
    "COM - B - C - D - E - F\n",
    "               \\\n",
    "                I\n",
    "\n",
    "In this visual representation, when two objects are connected by a line, the one on the right directly orbits the one on the left.\n",
    "\n",
    "Here, we can count the total number of orbits as follows:\n",
    "\n",
    "D directly orbits C and indirectly orbits B and COM, a total of 3 orbits.\n",
    "L directly orbits K and indirectly orbits J, E, D, C, B, and COM, a total of 7 orbits.\n",
    "COM orbits nothing.\n",
    "The total number of direct and indirect orbits in this example is 42.\n",
    "\n",
    "What is the total number of direct and indirect orbits in your map data?"
   ]
  },
  {
   "cell_type": "code",
   "execution_count": 21,
   "metadata": {},
   "outputs": [],
   "source": [
    "test_a = [\n",
    "    \"COM)B\",\n",
    "    \"B)C\",\n",
    "    \"C)D\",\n",
    "    \"D)E\",\n",
    "    \"E)F\",\n",
    "    \"B)G\",\n",
    "    \"G)H\",\n",
    "    \"D)I\",\n",
    "    \"E)J\",\n",
    "    \"J)K\",\n",
    "    \"K)L\"\n",
    "]\n",
    "\n",
    "test_b = [\n",
    "    \"COM)B\",\n",
    "    \"B)C\",\n",
    "    \"C)D\",\n",
    "    \"D)E\",\n",
    "    \"E)F\",\n",
    "    \"B)G\",\n",
    "    \"G)H\",\n",
    "    \"D)I\",\n",
    "    \"E)J\",\n",
    "    \"J)K\",\n",
    "    \"K)L\",\n",
    "    \"K)YOU\",\n",
    "    \"I)SAN\"\n",
    "]"
   ]
  },
  {
   "cell_type": "code",
   "execution_count": 1,
   "metadata": {},
   "outputs": [],
   "source": [
    "with open(\"6-input.txt\", \"r\") as input_file:\n",
    "    input_data = input_file.readlines()\n",
    "    input_data = [x.strip() for x in input_data]"
   ]
  },
  {
   "cell_type": "code",
   "execution_count": 30,
   "metadata": {},
   "outputs": [],
   "source": [
    "map_data = [(path_map.split(\")\")) for path_map in input_data]"
   ]
  },
  {
   "cell_type": "code",
   "execution_count": 8,
   "metadata": {},
   "outputs": [
    {
     "name": "stdout",
     "output_type": "stream",
     "text": [
      ">>>DEBUG: [['COM', 'B'], ['B', 'C'], ['C', 'D'], ['D', 'E'], ['E', 'F'], ['B', 'G'], ['G', 'H'], ['D', 'I'], ['E', 'J'], ['J', 'K'], ['K', 'L']]\n"
     ]
    }
   ],
   "source": [
    "print(f\">>>DEBUG: {map_data}\")"
   ]
  },
  {
   "cell_type": "code",
   "execution_count": 3,
   "metadata": {},
   "outputs": [],
   "source": [
    "def initial_map(data):\n",
    "    data_dict = {}\n",
    "    for planet, orbiter in data:\n",
    "        data_dict[orbiter]=planet\n",
    "    return data_dict"
   ]
  },
  {
   "cell_type": "code",
   "execution_count": 31,
   "metadata": {},
   "outputs": [],
   "source": [
    "planet_to_orbiter_dict = initial_map(map_data)"
   ]
  },
  {
   "cell_type": "code",
   "execution_count": 15,
   "metadata": {},
   "outputs": [
    {
     "name": "stdout",
     "output_type": "stream",
     "text": [
      ">>>DEBUG: dict_items([('B', 'COM'), ('C', 'B'), ('D', 'C'), ('E', 'D'), ('F', 'E'), ('G', 'B'), ('H', 'G'), ('I', 'D'), ('J', 'E'), ('K', 'J'), ('L', 'K')])\n"
     ]
    }
   ],
   "source": [
    "print(f\">>>DEBUG: {planet_to_orbiter_dict.items()}\")"
   ]
  },
  {
   "cell_type": "code",
   "execution_count": 5,
   "metadata": {},
   "outputs": [],
   "source": [
    "def full_map(planet_to_orbiter):\n",
    "    full_map_dict = {}\n",
    "    for orbiter, planet in planet_to_orbiter.items():\n",
    "#     print(f\">>>DEBUG: {orbiter}, {planet_list}\")\n",
    "        planet_list = [planet]\n",
    "        new_orbiter = planet_list[-1]\n",
    "        planet_to_new_orbiter = planet_to_orbiter.get(new_orbiter)\n",
    "        while planet_to_new_orbiter:\n",
    "            planet_list.append(planet_to_new_orbiter)\n",
    "            planet_to_new_orbiter = planet_to_orbiter.get(planet_to_new_orbiter)\n",
    "        full_map_dict[orbiter] = planet_list\n",
    "    return full_map_dict"
   ]
  },
  {
   "cell_type": "code",
   "execution_count": 32,
   "metadata": {},
   "outputs": [],
   "source": [
    "planets_to_orbiter = full_map(planet_to_orbiter_dict)"
   ]
  },
  {
   "cell_type": "code",
   "execution_count": null,
   "metadata": {},
   "outputs": [],
   "source": [
    "print(f\">>>DEBUG: {planets_to_orbiter.items()}\")"
   ]
  },
  {
   "cell_type": "code",
   "execution_count": 45,
   "metadata": {},
   "outputs": [
    {
     "name": "stdout",
     "output_type": "stream",
     "text": [
      "Total number of direct and indirect orbits: 278744\n"
     ]
    }
   ],
   "source": [
    "total_orbits = sum([len(orbits) for orbits in planets_to_orbiter.values()])\n",
    "print(f\"Total number of direct and indirect orbits: {total_orbits}\")"
   ]
  },
  {
   "cell_type": "markdown",
   "metadata": {},
   "source": [
    "# Quiz 6b\n",
    "\n",
    "Now, you just need to figure out how many orbital transfers you (YOU) need to take to get to Santa (SAN).\n",
    "\n",
    "You start at the object YOU are orbiting; your destination is the object SAN is orbiting. An orbital transfer lets you move from any object to an object orbiting or orbited by that object.\n",
    "\n",
    "For example, suppose you have the following map:\n",
    "\n",
    "COM)B\n",
    "B)C\n",
    "C)D\n",
    "D)E\n",
    "E)F\n",
    "B)G\n",
    "G)H\n",
    "D)I\n",
    "E)J\n",
    "J)K\n",
    "K)L\n",
    "K)YOU\n",
    "I)SAN\n",
    "Visually, the above map of orbits looks like this:\n",
    "\n",
    "                          YOU\n",
    "                         /\n",
    "        G - H       J - K - L\n",
    "       /           /\n",
    "COM - B - C - D - E - F\n",
    "               \\\n",
    "                I - SAN\n",
    "In this example, YOU are in orbit around K, and SAN is in orbit around I. To move from K to I, a minimum of 4 orbital transfers are required:\n",
    "\n",
    "K to J\n",
    "J to E\n",
    "E to D\n",
    "D to I\n",
    "Afterward, the map of orbits looks like this:\n",
    "\n",
    "        G - H       J - K - L\n",
    "       /           /\n",
    "COM - B - C - D - E - F\n",
    "               \\\n",
    "                I - SAN\n",
    "                 \\\n",
    "                  YOU\n",
    "What is the minimum number of orbital transfers required to move from the object YOU are orbiting to the object SAN is orbiting? (Between the objects they are orbiting - not between YOU and SAN.)"
   ]
  },
  {
   "cell_type": "code",
   "execution_count": 33,
   "metadata": {},
   "outputs": [],
   "source": [
    "you_path = set(planets_to_orbiter[\"YOU\"])\n",
    "san_path = set(planets_to_orbiter[\"SAN\"])\n",
    "shared_path_you_san = you_path & san_path"
   ]
  },
  {
   "cell_type": "code",
   "execution_count": 34,
   "metadata": {},
   "outputs": [
    {
     "name": "stdout",
     "output_type": "stream",
     "text": [
      "Minimum number of orbital transfers required: 475\n"
     ]
    }
   ],
   "source": [
    "you_path_to_meet_point = set.difference(you_path, shared_path_you_san)\n",
    "san_path_to_meet_point = set.difference(san_path, shared_path_you_san)\n",
    "orbital_transfers = len(you_path_to_meet_point) + len(san_path_to_meet_point)\n",
    "print(f\"Minimum number of orbital transfers required: {orbital_transfers}\")"
   ]
  },
  {
   "cell_type": "code",
   "execution_count": null,
   "metadata": {},
   "outputs": [],
   "source": []
  }
 ],
 "metadata": {
  "kernelspec": {
   "display_name": "data_science",
   "language": "python",
   "name": "data_science"
  },
  "language_info": {
   "codemirror_mode": {
    "name": "ipython",
    "version": 3
   },
   "file_extension": ".py",
   "mimetype": "text/x-python",
   "name": "python",
   "nbconvert_exporter": "python",
   "pygments_lexer": "ipython3",
   "version": "3.7.5"
  }
 },
 "nbformat": 4,
 "nbformat_minor": 4
}
