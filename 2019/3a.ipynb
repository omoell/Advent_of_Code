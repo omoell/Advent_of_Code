{
 "cells": [
  {
   "cell_type": "markdown",
   "metadata": {},
   "source": [
    "# Quiz 3a\n",
    "\n",
    "The wires twist and turn, but the two wires occasionally cross paths. To fix the circuit, you need to find the intersection point closest to the central port. Because the wires are on a grid, use the Manhattan distance for this measurement. While the wires do technically cross right at the central port where they both start, this point does not count, nor does a wire count as crossing with itself.\n",
    "\n",
    "For example, if the first wire's path is R8,U5,L5,D3, then starting from the central port (o), it goes right 8, up 5, left 5, and finally down 3:\n",
    "\n",
    "...........  \n",
    "...........  \n",
    "...........  \n",
    "....+----+.  \n",
    "....|....|.  \n",
    "....|....|.  \n",
    "....|....|.  \n",
    ".........|.  \n",
    ".o-------+.  \n",
    "...........  \n",
    "Then, if the second wire's path is U7,R6,D4,L4, it goes up 7, right 6, down 4, and left 4:\n",
    "\n",
    "...........  \n",
    ".+-----+...  \n",
    ".|.....|...  \n",
    ".|..+--X-+.  \n",
    ".|..|..|.|.  \n",
    ".|.-X--+.|.  \n",
    ".|..|....|.  \n",
    ".|.......|.  \n",
    ".o-------+.  \n",
    "...........  \n",
    "These wires cross at two locations (marked X), but the lower-left one is closer to the central port: its distance is 3 + 3 = 6.\n",
    "\n",
    "Here are a few more examples:\n",
    "\n",
    "R75,D30,R83,U83,L12,D49,R71,U7,L72\n",
    "U62,R66,U55,R34,D71,R55,D58,R83 = distance 159\n",
    "R98,U47,R26,D63,R33,U87,L62,D20,R33,U53,R51\n",
    "U98,R91,D20,R16,D67,R40,U7,R15,U6,R7 = distance 135\n",
    "What is the Manhattan distance from the central port to the closest intersection?"
   ]
  },
  {
   "cell_type": "code",
   "execution_count": 12,
   "metadata": {},
   "outputs": [],
   "source": [
    "def transform_directions(directions_input):\n",
    "    wire_directions_new = []\n",
    "    for step in directions_input:\n",
    "        direction = step[0]\n",
    "        length = int(step[1:])\n",
    "        if direction == \"U\":\n",
    "            wire_directions_new.append([0, length])\n",
    "        if direction == \"R\":\n",
    "            wire_directions_new.append([length, 0])\n",
    "        if direction == \"D\":\n",
    "            wire_directions_new.append([0, (-length)])\n",
    "        if direction == \"L\":\n",
    "            wire_directions_new.append([(-length), 0])\n",
    "    return wire_directions_new"
   ]
  },
  {
   "cell_type": "code",
   "execution_count": 20,
   "metadata": {},
   "outputs": [],
   "source": [
    "def track_path(wire):\n",
    "    path = []\n",
    "    path.append((0,0))\n",
    "    for wire_steps in wire:\n",
    "        x = wire_steps[0]\n",
    "        y = wire_steps[1]\n",
    "        if (x != 0):\n",
    "            direction = 1 if (x > 0) else (-1)\n",
    "            actual_position = path[-1]\n",
    "            for i in range(direction, (x + direction), direction):\n",
    "                path.append(((actual_position[0] + i), actual_position[1]))\n",
    "        else:\n",
    "            direction = 1 if (y > 0) else (-1)\n",
    "            actual_position = path[-1]\n",
    "            for i in range(direction, (y + direction), direction):\n",
    "                path.append(((actual_position[0]), actual_position[1] + i))\n",
    "    return path"
   ]
  },
  {
   "cell_type": "code",
   "execution_count": 14,
   "metadata": {},
   "outputs": [],
   "source": [
    "def distance(intercept_point):\n",
    "    return abs(intercept_point[0]) + abs(intercept_point[1])"
   ]
  },
  {
   "cell_type": "code",
   "execution_count": 15,
   "metadata": {},
   "outputs": [],
   "source": [
    "with open(\"3-input.txt\", \"r\") as input_file:\n",
    "    file_input = input_file.read()\n",
    "    file_input = file_input.split(\"\\n\")\n",
    "    directions_input = [x.split(\",\") for x in file_input[:-1]]"
   ]
  },
  {
   "cell_type": "code",
   "execution_count": null,
   "metadata": {},
   "outputs": [],
   "source": [
    "test = [[\"R75\",\"D30\",\"R83\",\"U83\",\"L12\",\"D49\",\"R71\",\"U7\",\"L72\"], [\"U62\",\"R66\",\"U55\",\"R34\",\"D71\",\"R55\",\"D58\",\"R83\"]]\n",
    "test2 = [\"R98,U47,R26,D63,R33,U87,L62,D20,R33,U53,R51\".split(\",\"), \"U98,R91,D20,R16,D67,R40,U7,R15,U6,R7\".split(\",\")]"
   ]
  },
  {
   "cell_type": "code",
   "execution_count": 26,
   "metadata": {},
   "outputs": [],
   "source": [
    "wire_1 = transform_directions(test2[0])\n",
    "wire_2 = transform_directions(test2[1])"
   ]
  },
  {
   "cell_type": "code",
   "execution_count": 27,
   "metadata": {},
   "outputs": [],
   "source": [
    "wire_1_path = track_path(wire_1)\n",
    "wire_2_path = track_path(wire_2)"
   ]
  },
  {
   "cell_type": "code",
   "execution_count": 28,
   "metadata": {},
   "outputs": [
    {
     "data": {
      "text/plain": [
       "[(107, 71), (0, 0), (157, 18), (124, 11), (107, 47), (107, 51)]"
      ]
     },
     "execution_count": 28,
     "metadata": {},
     "output_type": "execute_result"
    }
   ],
   "source": [
    "# intersect = [x for x in wire_1 if x in wire_2]\n",
    "intersect =  list(set(wire_1_path) & set(wire_2_path))\n",
    "intersect"
   ]
  },
  {
   "cell_type": "code",
   "execution_count": 29,
   "metadata": {},
   "outputs": [
    {
     "name": "stdout",
     "output_type": "stream",
     "text": [
      "Distance to closest intercept: 135\n"
     ]
    }
   ],
   "source": [
    "intersect_distances = [distance(x) for x in intersect if x != (0,0)]\n",
    "print(f\"Distance to closest intercept: {min(intersect_distances)}\")"
   ]
  }
 ],
 "metadata": {
  "kernelspec": {
   "display_name": "data_science",
   "language": "python",
   "name": "data_science"
  },
  "language_info": {
   "codemirror_mode": {
    "name": "ipython",
    "version": 3
   },
   "file_extension": ".py",
   "mimetype": "text/x-python",
   "name": "python",
   "nbconvert_exporter": "python",
   "pygments_lexer": "ipython3",
   "version": "3.7.5"
  }
 },
 "nbformat": 4,
 "nbformat_minor": 4
}
