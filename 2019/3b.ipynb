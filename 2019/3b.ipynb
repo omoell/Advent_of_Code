{
 "cells": [
  {
   "cell_type": "markdown",
   "metadata": {},
   "source": [
    "# Quiz 3b\n",
    "\n",
    "It turns out that this circuit is very timing-sensitive; you actually need to minimize the signal delay.\n",
    "\n",
    "To do this, calculate the number of steps each wire takes to reach each intersection; choose the intersection where the sum of both wires' steps is lowest. If a wire visits a position on the grid multiple times, use the steps value from the first time it visits that position when calculating the total value of a specific intersection.\n",
    "\n",
    "The number of steps a wire takes is the total number of grid squares the wire has entered to get to that location, including the intersection being considered. Again consider the example from above:\n",
    "\n",
    "...........  \n",
    ".+-----+...  \n",
    ".|.....|...  \n",
    ".|..+--X-+.  \n",
    ".|..|..|.|.  \n",
    ".|.-X--+.|.  \n",
    ".|..|....|.  \n",
    ".|.......|.  \n",
    ".o-------+.  \n",
    "...........  \n",
    "In the above example, the intersection closest to the central port is reached after 8+5+5+2 = 20 steps by the first wire and 7+6+4+3 = 20 steps by the second wire for a total of 20+20 = 40 steps.\n",
    "\n",
    "However, the top-right intersection is better: the first wire takes only 8+5+2 = 15 and the second wire takes only 7+6+2 = 15, a total of 15+15 = 30 steps.\n",
    "\n",
    "Here are the best steps for the extra examples from above:\n",
    "\n",
    "R75,D30,R83,U83,L12,D49,R71,U7,L72\n",
    "U62,R66,U55,R34,D71,R55,D58,R83 = 610 steps\n",
    "R98,U47,R26,D63,R33,U87,L62,D20,R33,U53,R51\n",
    "U98,R91,D20,R16,D67,R40,U7,R15,U6,R7 = 410 steps\n",
    "What is the fewest combined steps the wires must take to reach an\n",
    "intersection?"
   ]
  },
  {
   "cell_type": "code",
   "execution_count": 40,
   "metadata": {},
   "outputs": [],
   "source": [
    "def transform_directions(directions_input):\n",
    "    wire_directions_new = []\n",
    "    for step in directions_input:\n",
    "        direction = step[0]\n",
    "        length = int(step[1:])\n",
    "        if direction == \"U\":\n",
    "            wire_directions_new.append([0, length])\n",
    "        if direction == \"R\":\n",
    "            wire_directions_new.append([length, 0])\n",
    "        if direction == \"D\":\n",
    "            wire_directions_new.append([0, (-length)])\n",
    "        if direction == \"L\":\n",
    "            wire_directions_new.append([(-length), 0])\n",
    "    return wire_directions_new"
   ]
  },
  {
   "cell_type": "code",
   "execution_count": 49,
   "metadata": {},
   "outputs": [],
   "source": [
    "def track_path(wire):\n",
    "    path = {}\n",
    "    count = 0\n",
    "    path[(0,0)] = count\n",
    "    actual_position = (0,0)\n",
    "    for wire_steps in wire:\n",
    "        x = wire_steps[0]\n",
    "        y = wire_steps[1]\n",
    "        if (x != 0):\n",
    "            direction = 1 if (x > 0) else (-1)\n",
    "            for i in range(direction, (x + direction), direction):\n",
    "                count += 1\n",
    "                new_position = ((actual_position[0] + i), actual_position[1])\n",
    "                path[new_position] = count                \n",
    "        else:\n",
    "            direction = 1 if (y > 0) else (-1)\n",
    "            for i in range(direction, (y + direction), direction):\n",
    "                count += 1\n",
    "                new_position = ((actual_position[0]), actual_position[1] + i)\n",
    "                path[new_position] = count\n",
    "        actual_position = new_position\n",
    "    return path"
   ]
  },
  {
   "cell_type": "code",
   "execution_count": 42,
   "metadata": {},
   "outputs": [],
   "source": [
    "def distance(intercept_point):\n",
    "    return abs(intercept_point[0]) + abs(intercept_point[1])"
   ]
  },
  {
   "cell_type": "code",
   "execution_count": 43,
   "metadata": {},
   "outputs": [],
   "source": [
    "with open(\"3-input.txt\", \"r\") as input_file:\n",
    "    file_input = input_file.read()\n",
    "    file_input = file_input.split(\"\\n\")\n",
    "    directions_input = [x.split(\",\") for x in file_input[:-1]]"
   ]
  },
  {
   "cell_type": "code",
   "execution_count": 44,
   "metadata": {},
   "outputs": [],
   "source": [
    "test = [[\"R75\",\"D30\",\"R83\",\"U83\",\"L12\",\"D49\",\"R71\",\"U7\",\"L72\"], [\"U62\",\"R66\",\"U55\",\"R34\",\"D71\",\"R55\",\"D58\",\"R83\"]]\n",
    "test2 = [\"R98,U47,R26,D63,R33,U87,L62,D20,R33,U53,R51\".split(\",\"), \"U98,R91,D20,R16,D67,R40,U7,R15,U6,R7\".split(\",\")]"
   ]
  },
  {
   "cell_type": "code",
   "execution_count": 63,
   "metadata": {},
   "outputs": [],
   "source": [
    "wire_1 = transform_directions(directions_input[0])\n",
    "wire_2 = transform_directions(directions_input[1])"
   ]
  },
  {
   "cell_type": "code",
   "execution_count": 64,
   "metadata": {},
   "outputs": [],
   "source": [
    "wire_1_path = track_path(wire_1)\n",
    "wire_2_path = track_path(wire_2)"
   ]
  },
  {
   "cell_type": "code",
   "execution_count": 65,
   "metadata": {},
   "outputs": [
    {
     "data": {
      "text/plain": [
       "{(-1232, 213),\n",
       " (-1232, 236),\n",
       " (-1232, 249),\n",
       " (-1232, 427),\n",
       " (-1222, 125),\n",
       " (-930, 0),\n",
       " (-904, 0),\n",
       " (-857, 546),\n",
       " (-681, 546),\n",
       " (-608, -6),\n",
       " (-608, 279),\n",
       " (-369, -6),\n",
       " (-369, 279),\n",
       " (-272, 486),\n",
       " (-62, 1839),\n",
       " (0, 0),\n",
       " (323, 1740),\n",
       " (723, 905),\n",
       " (723, 1090),\n",
       " (723, 1378)}"
      ]
     },
     "execution_count": 65,
     "metadata": {},
     "output_type": "execute_result"
    }
   ],
   "source": [
    "# intersect = [x for x in wire_1 if x in wire_2]\n",
    "intersect =  set(wire_1_path.keys()) & set(wire_2_path.keys())\n",
    "intersect"
   ]
  },
  {
   "cell_type": "code",
   "execution_count": 67,
   "metadata": {},
   "outputs": [
    {
     "name": "stdout",
     "output_type": "stream",
     "text": [
      "Distance to closest intercept: 14746\n"
     ]
    }
   ],
   "source": [
    "intersect_steps = [(wire_1_path[x] + wire_2_path[x]) for x in intersect if x != (0,0)]\n",
    "print(f\"Minimum steps to next intercept: {min(intersect_steps)}\")"
   ]
  }
 ],
 "metadata": {
  "kernelspec": {
   "display_name": "data_science",
   "language": "python",
   "name": "data_science"
  },
  "language_info": {
   "codemirror_mode": {
    "name": "ipython",
    "version": 3
   },
   "file_extension": ".py",
   "mimetype": "text/x-python",
   "name": "python",
   "nbconvert_exporter": "python",
   "pygments_lexer": "ipython3",
   "version": "3.7.5"
  }
 },
 "nbformat": 4,
 "nbformat_minor": 4
}
