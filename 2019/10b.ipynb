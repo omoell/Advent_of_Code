{
 "cells": [
  {
   "cell_type": "code",
   "execution_count": 26,
   "metadata": {},
   "outputs": [],
   "source": [
    "import numpy as np\n",
    "import pandas as pd\n",
    "import math"
   ]
  },
  {
   "cell_type": "code",
   "execution_count": 193,
   "metadata": {},
   "outputs": [],
   "source": [
    "with open('10-input.txt', 'r') as input_file:\n",
    "    input_data = input_file.read().split('\\n')"
   ]
  },
  {
   "cell_type": "code",
   "execution_count": 194,
   "metadata": {},
   "outputs": [],
   "source": [
    "star_map = input_data[:-1]"
   ]
  },
  {
   "cell_type": "markdown",
   "metadata": {},
   "source": [
    "star_map = input_data"
   ]
  },
  {
   "cell_type": "code",
   "execution_count": 57,
   "metadata": {},
   "outputs": [],
   "source": [
    "def determinant(v1, v2):\n",
    "    return v1[0]*v2[1]-v1[1]*v2[0]\n",
    "\n",
    "def unit_vector(vector):\n",
    "    \"\"\" Returns the unit vector of the vector.  \"\"\"\n",
    "    return vector / np.linalg.norm(vector)\n",
    "\n",
    "def angle_between(v1, v2):\n",
    "    \"\"\" Returns the angle in radians between vectors 'v1' and 'v2'::\n",
    "\n",
    "            >>> angle_between((1, 0, 0), (0, 1, 0))\n",
    "            1.5707963267948966\n",
    "            >>> angle_between((1, 0, 0), (1, 0, 0))\n",
    "            0.0\n",
    "            >>> angle_between((1, 0, 0), (-1, 0, 0))\n",
    "            3.141592653589793\n",
    "    \"\"\"\n",
    "    v1_u = unit_vector(v1)\n",
    "    v2_u = unit_vector(v2)\n",
    "    return np.arccos(np.clip(np.dot(v1_u, v2_u), -1.0, 1.0))"
   ]
  },
  {
   "cell_type": "code",
   "execution_count": 58,
   "metadata": {},
   "outputs": [],
   "source": [
    "def calc_distance(x, y):\n",
    "    distance = np.sqrt(abs(x)**2 + abs(y)**2)\n",
    "    return distance"
   ]
  },
  {
   "cell_type": "code",
   "execution_count": 59,
   "metadata": {},
   "outputs": [],
   "source": [
    "def find_asteroids(star_map):\n",
    "    homebase_coordinates = []\n",
    "    rows = len(star_map)\n",
    "    cols = len(star_map[0])\n",
    "    for row in range(rows):\n",
    "        for col in range(cols):\n",
    "            asteroid = True if star_map[row][col] == '#' else False\n",
    "            if asteroid:\n",
    "                homebase_coordinates.append((col, row))\n",
    "    return homebase_coordinates"
   ]
  },
  {
   "cell_type": "code",
   "execution_count": 184,
   "metadata": {},
   "outputs": [],
   "source": [
    "def calculate_parameters_per_asteroid(homebase, homebase_map):\n",
    "    parameters = pd.DataFrame(columns=['Coordinate', 'Angle', 'Distance'])\n",
    "#     print(f'>>>DEBUG: {asteroid_map}')\n",
    "    homebase_map.remove(homebase,)\n",
    "#     print(f'>>>DEBUG: {homebase_map}')\n",
    "    for asteroid in homebase_map:\n",
    "        base_direction = (0,-1)\n",
    "        x = asteroid[0]-homebase[0]\n",
    "        y = asteroid[1]-homebase[1]\n",
    "        line_of_sight = (x,y)\n",
    "        det = determinant(base_direction, line_of_sight)\n",
    "        radians = angle_between(base_direction, line_of_sight)\n",
    "        degree = math.degrees(radians) if det >= 0 else 360-math.degrees(radians)\n",
    "        distance = calc_distance(x, y)\n",
    "        parameters.loc[len(parameters)]= [asteroid, round(degree, 10), distance]\n",
    "#         print(f'>>>DEBUG: homebase: {homebase} asteroid: {asteroid} base_direction: {base_direction} line_of_sight: {line_of_sight} degree: {degree}')\n",
    "    return parameters"
   ]
  },
  {
   "cell_type": "code",
   "execution_count": 195,
   "metadata": {},
   "outputs": [],
   "source": [
    "asteroid_map = find_asteroids(star_map)\n",
    "# asteroid_map"
   ]
  },
  {
   "cell_type": "code",
   "execution_count": 196,
   "metadata": {},
   "outputs": [],
   "source": [
    "homebase = (17,23)\n",
    "# homebase = (11,13)\n",
    "homebase_map = list(asteroid_map)\n",
    "\n",
    "df_asteroid_parameters = calculate_parameters_per_asteroid(homebase, asteroid_map)"
   ]
  },
  {
   "cell_type": "code",
   "execution_count": null,
   "metadata": {},
   "outputs": [],
   "source": [
    "df_asteroid_parameters"
   ]
  },
  {
   "cell_type": "code",
   "execution_count": 188,
   "metadata": {},
   "outputs": [],
   "source": [
    "def assign_orbit(df, column):\n",
    "    new_values = [1]\n",
    "    for i in range(1, len(df)):\n",
    "#         print(f'>>>DEBUG: i-1: {df.loc[i-1, column]} i: {df.loc[i, column]}')\n",
    "        if df.loc[i-1, column] == df.loc[i, column]:\n",
    "            new_values.append(new_values[-1]+1)\n",
    "        else:\n",
    "            new_values.append(1)\n",
    "    return new_values"
   ]
  },
  {
   "cell_type": "code",
   "execution_count": 197,
   "metadata": {},
   "outputs": [],
   "source": [
    "df_asteroid_parameters.sort_values(by=['Angle', 'Distance'], ascending=True, inplace=True)\n",
    "df_asteroid_parameters.reset_index(drop=True, inplace=True)"
   ]
  },
  {
   "cell_type": "code",
   "execution_count": 198,
   "metadata": {},
   "outputs": [],
   "source": [
    "df_asteroid_parameters['Orbit'] = assign_orbit(df_asteroid_parameters, 'Angle')\n",
    "df_asteroid_parameters.sort_values(by=['Orbit', 'Angle'], ascending=True, inplace=True)\n",
    "df_asteroid_parameters.reset_index(drop=True, inplace=True)"
   ]
  },
  {
   "cell_type": "code",
   "execution_count": 201,
   "metadata": {},
   "outputs": [
    {
     "name": "stdout",
     "output_type": "stream",
     "text": [
      "Result: 200th asteroid to be desytroyed is (2, 4). Solution therefore is 204\n"
     ]
    }
   ],
   "source": [
    "asteroid_200 = df_asteroid_parameters.iloc[199, 0]\n",
    "print(f'Result: 200th asteroid to be desytroyed is {asteroid_200}. Solution therefore is {asteroid_200[0]*100 + asteroid_200[1]}')"
   ]
  }
 ],
 "metadata": {
  "kernelspec": {
   "display_name": "data_science",
   "language": "python",
   "name": "data_science"
  },
  "language_info": {
   "codemirror_mode": {
    "name": "ipython",
    "version": 3
   },
   "file_extension": ".py",
   "mimetype": "text/x-python",
   "name": "python",
   "nbconvert_exporter": "python",
   "pygments_lexer": "ipython3",
   "version": "3.7.5"
  }
 },
 "nbformat": 4,
 "nbformat_minor": 4
}
