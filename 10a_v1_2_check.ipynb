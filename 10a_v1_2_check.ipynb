{
 "cells": [
  {
   "cell_type": "code",
   "execution_count": 1,
   "metadata": {},
   "outputs": [],
   "source": [
    "import numpy as np\n",
    "import pandas as pd\n",
    "import math"
   ]
  },
  {
   "cell_type": "code",
   "execution_count": 2,
   "metadata": {},
   "outputs": [],
   "source": [
    "with open('10-input.txt', 'r') as input_file:\n",
    "    input_data = input_file.read().split('\\n')"
   ]
  },
  {
   "cell_type": "code",
   "execution_count": 3,
   "metadata": {},
   "outputs": [],
   "source": [
    "star_map = input_data[:-1]"
   ]
  },
  {
   "cell_type": "markdown",
   "metadata": {},
   "source": [
    "star_map = input_data"
   ]
  },
  {
   "cell_type": "code",
   "execution_count": 4,
   "metadata": {},
   "outputs": [],
   "source": [
    "def find_asteroids(star_map):\n",
    "    homebase_coordinates = []\n",
    "    rows = len(star_map)\n",
    "    cols = len(star_map[0])\n",
    "    for row in range(rows):\n",
    "        for col in range(cols):\n",
    "            asteroid = True if star_map[row][col] == '#' else False\n",
    "            if asteroid:\n",
    "                homebase_coordinates.append((col, row))\n",
    "    return homebase_coordinates"
   ]
  },
  {
   "cell_type": "code",
   "execution_count": 5,
   "metadata": {},
   "outputs": [],
   "source": [
    "def calc_determinant(vector1, vector2):\n",
    "    x1, y1 = vector1\n",
    "    x2, y2 = vector2\n",
    "    determinant = (x1*y2)-(y1*x2)\n",
    "    return determinant"
   ]
  },
  {
   "cell_type": "code",
   "execution_count": 6,
   "metadata": {},
   "outputs": [],
   "source": [
    "def calc_vector_length(vector):\n",
    "    x, y  = vector\n",
    "    length = np.sqrt(x**2 + y**2)\n",
    "    return length"
   ]
  },
  {
   "cell_type": "code",
   "execution_count": 7,
   "metadata": {},
   "outputs": [],
   "source": [
    "def calc_unit_vector(vector):\n",
    "    x, y = vector\n",
    "    length = calc_vector_length(vector)\n",
    "    unit_vector = ((x / length), (y / length))\n",
    "    return unit_vector"
   ]
  },
  {
   "cell_type": "code",
   "execution_count": 6,
   "metadata": {},
   "outputs": [],
   "source": [
    "def find_visible_asteroids(homebase, homebase_map):\n",
    "    slope_count = set()\n",
    "    base_vector = (0,1)\n",
    "    for asteroid in homebase_map:\n",
    "        vector = x, y = asteroid[0]-homebase[0], asteroid[1]-homebase[1]\n",
    "#         unit_vector = x_uv, y_uv = calc_unit_vector(vector)  \n",
    "        determinant = calc_determinant(base_vector, vector)\n",
    "        if determinant >= 0:\n",
    "            if 0 in vector:\n",
    "                slope = x + y\n",
    "            else:\n",
    "                slope = x / y\n",
    "        if determinant < 0:\n",
    "            if 0 in vector:\n",
    "                slope = 100 - (x + y)\n",
    "            else:\n",
    "                slope = 100 - (x / y)\n",
    "#         print(f'>>>DEBUG: unit vector: {vector}')\n",
    "        slope_count.add(slope)\n",
    "#         print(f'>>>DEBUG: homebase: {homebase} asteroid: {asteroid} base_direction: {base_direction} line_of_sight: {line_of_sight} degree: {degree}')\n",
    "    return slope_count"
   ]
  },
  {
   "cell_type": "code",
   "execution_count": 7,
   "metadata": {},
   "outputs": [],
   "source": [
    "def evaluate_homebases(asteroid_map):\n",
    "    homebase_dict = {}\n",
    "    for homebase in asteroid_map:\n",
    "        homebase_map = list(asteroid_map)\n",
    "        homebase_map.remove(homebase,)\n",
    "#         print(f'DEBUG>>> length homebase map: {len(homebase_map)}')\n",
    "        slope_count = find_visible_asteroids(homebase, homebase_map)\n",
    "        homebase_dict[homebase] = len(slope_count)\n",
    "    return homebase_dict"
   ]
  },
  {
   "cell_type": "code",
   "execution_count": 8,
   "metadata": {},
   "outputs": [],
   "source": [
    "asteroid_map = find_asteroids(star_map)"
   ]
  },
  {
   "cell_type": "code",
   "execution_count": 9,
   "metadata": {},
   "outputs": [],
   "source": [
    "homebases_evaluated = evaluate_homebases(asteroid_map)"
   ]
  },
  {
   "cell_type": "code",
   "execution_count": 10,
   "metadata": {},
   "outputs": [
    {
     "data": {
      "text/html": [
       "<div>\n",
       "<style scoped>\n",
       "    .dataframe tbody tr th:only-of-type {\n",
       "        vertical-align: middle;\n",
       "    }\n",
       "\n",
       "    .dataframe tbody tr th {\n",
       "        vertical-align: top;\n",
       "    }\n",
       "\n",
       "    .dataframe thead th {\n",
       "        text-align: right;\n",
       "    }\n",
       "</style>\n",
       "<table border=\"1\" class=\"dataframe\">\n",
       "  <thead>\n",
       "    <tr style=\"text-align: right;\">\n",
       "      <th></th>\n",
       "      <th></th>\n",
       "      <th>0</th>\n",
       "    </tr>\n",
       "  </thead>\n",
       "  <tbody>\n",
       "    <tr>\n",
       "      <th>7</th>\n",
       "      <th>26</th>\n",
       "      <td>308</td>\n",
       "    </tr>\n",
       "    <tr>\n",
       "      <th>1</th>\n",
       "      <th>23</th>\n",
       "      <td>306</td>\n",
       "    </tr>\n",
       "    <tr>\n",
       "      <th>3</th>\n",
       "      <th>13</th>\n",
       "      <td>306</td>\n",
       "    </tr>\n",
       "    <tr>\n",
       "      <th>9</th>\n",
       "      <th>26</th>\n",
       "      <td>306</td>\n",
       "    </tr>\n",
       "    <tr>\n",
       "      <th>0</th>\n",
       "      <th>25</th>\n",
       "      <td>305</td>\n",
       "    </tr>\n",
       "    <tr>\n",
       "      <th>...</th>\n",
       "      <th>...</th>\n",
       "      <td>...</td>\n",
       "    </tr>\n",
       "    <tr>\n",
       "      <th>24</th>\n",
       "      <th>14</th>\n",
       "      <td>271</td>\n",
       "    </tr>\n",
       "    <tr>\n",
       "      <th>12</th>\n",
       "      <th>16</th>\n",
       "      <td>270</td>\n",
       "    </tr>\n",
       "    <tr>\n",
       "      <th>18</th>\n",
       "      <th>4</th>\n",
       "      <td>268</td>\n",
       "    </tr>\n",
       "    <tr>\n",
       "      <th rowspan=\"2\" valign=\"top\">26</th>\n",
       "      <th>22</th>\n",
       "      <td>267</td>\n",
       "    </tr>\n",
       "    <tr>\n",
       "      <th>16</th>\n",
       "      <td>262</td>\n",
       "    </tr>\n",
       "  </tbody>\n",
       "</table>\n",
       "<p>405 rows × 1 columns</p>\n",
       "</div>"
      ],
      "text/plain": [
       "         0\n",
       "7  26  308\n",
       "1  23  306\n",
       "3  13  306\n",
       "9  26  306\n",
       "0  25  305\n",
       "...    ...\n",
       "24 14  271\n",
       "12 16  270\n",
       "18 4   268\n",
       "26 22  267\n",
       "   16  262\n",
       "\n",
       "[405 rows x 1 columns]"
      ]
     },
     "execution_count": 10,
     "metadata": {},
     "output_type": "execute_result"
    }
   ],
   "source": [
    "df_homebases = pd.DataFrame(index=homebases_evaluated.keys(), data=homebases_evaluated.values())\n",
    "df_homebases.sort_values(by=0, ascending=False)"
   ]
  },
  {
   "cell_type": "code",
   "execution_count": null,
   "metadata": {},
   "outputs": [],
   "source": []
  }
 ],
 "metadata": {
  "kernelspec": {
   "display_name": "data_science",
   "language": "python",
   "name": "data_science"
  },
  "language_info": {
   "codemirror_mode": {
    "name": "ipython",
    "version": 3
   },
   "file_extension": ".py",
   "mimetype": "text/x-python",
   "name": "python",
   "nbconvert_exporter": "python",
   "pygments_lexer": "ipython3",
   "version": "3.7.5"
  }
 },
 "nbformat": 4,
 "nbformat_minor": 4
}
